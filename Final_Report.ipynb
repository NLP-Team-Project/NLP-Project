{
 "cells": [
  {
   "cell_type": "markdown",
   "id": "237c686e",
   "metadata": {},
   "source": [
    "# Predicting Program Languages"
   ]
  },
  {
   "cell_type": "markdown",
   "id": "5e9dbe96",
   "metadata": {},
   "source": [
    "# Goal:\n",
    "\n",
    "## - Build a classification model that predicts program languages used in each repo on Github."
   ]
  },
  {
   "cell_type": "markdown",
   "id": "201b6d87",
   "metadata": {},
   "source": [
    "---"
   ]
  },
  {
   "cell_type": "markdown",
   "id": "60e24ca3",
   "metadata": {},
   "source": [
    "# Imports"
   ]
  },
  {
   "cell_type": "code",
   "execution_count": 1,
   "id": "82262fe9",
   "metadata": {},
   "outputs": [],
   "source": [
    "import prepare as p\n",
    "\n",
    "\n",
    "\n",
    "\n",
    "import pandas as pd\n",
    "import matplotlib.pyplot as plt\n",
    "import seaborn as sns\n",
    "import numpy as np\n",
    "import unicodedata\n",
    "import markdown\n",
    "import re\n",
    "import nltk\n",
    "\n",
    "from bs4 import BeautifulSoup\n",
    "\n",
    "from nltk.tokenize.toktok import ToktokTokenizer\n",
    "from nltk.corpus import stopwords\n",
    "from wordcloud import WordCloud\n",
    "\n",
    "from sklearn.feature_extraction.text import TfidfVectorizer\n",
    "from sklearn.model_selection import train_test_split\n",
    "from sklearn.linear_model import LogisticRegression\n",
    "from sklearn.ensemble import RandomForestClassifier\n",
    "from sklearn.tree import DecisionTreeClassifier, plot_tree\n",
    "from sklearn.neighbors import KNeighborsClassifier\n",
    "from sklearn.metrics import classification_report"
   ]
  },
  {
   "cell_type": "markdown",
   "id": "d9759a90",
   "metadata": {},
   "source": [
    "---"
   ]
  },
  {
   "cell_type": "markdown",
   "id": "efb6d24b",
   "metadata": {},
   "source": [
    "# Dictionary"
   ]
  },
  {
   "cell_type": "markdown",
   "id": "e1563f91",
   "metadata": {},
   "source": [
    "| Column         | Column_type | Data_type| Description              |\n",
    "|----------------|-------------|----------|--------------------------|\n",
    "|repo            |Feature      |string    |Name of the repositiory.  |\n",
    "|language        |Target       |string    |Programming language used.|\n",
    "|readme_contents |Feature      |string    |Contents for every readme.|"
   ]
  },
  {
   "cell_type": "markdown",
   "id": "ff16c926",
   "metadata": {},
   "source": [
    "---"
   ]
  },
  {
   "cell_type": "markdown",
   "id": "f3f23ac7",
   "metadata": {},
   "source": [
    "# Acquire"
   ]
  },
  {
   "cell_type": "code",
   "execution_count": 2,
   "id": "264a76bb",
   "metadata": {},
   "outputs": [
    {
     "data": {
      "text/html": [
       "<div>\n",
       "<style scoped>\n",
       "    .dataframe tbody tr th:only-of-type {\n",
       "        vertical-align: middle;\n",
       "    }\n",
       "\n",
       "    .dataframe tbody tr th {\n",
       "        vertical-align: top;\n",
       "    }\n",
       "\n",
       "    .dataframe thead th {\n",
       "        text-align: right;\n",
       "    }\n",
       "</style>\n",
       "<table border=\"1\" class=\"dataframe\">\n",
       "  <thead>\n",
       "    <tr style=\"text-align: right;\">\n",
       "      <th></th>\n",
       "      <th>repo</th>\n",
       "      <th>language</th>\n",
       "      <th>readme_contents</th>\n",
       "    </tr>\n",
       "  </thead>\n",
       "  <tbody>\n",
       "    <tr>\n",
       "      <th>0</th>\n",
       "      <td>ScottfreeLLC/AlphaPy</td>\n",
       "      <td>Python</td>\n",
       "      <td>AlphaPy\\n=======\\n\\n|badge_pypi| |badge_downlo...</td>\n",
       "    </tr>\n",
       "    <tr>\n",
       "      <th>1</th>\n",
       "      <td>jalapic/engsoccerdata</td>\n",
       "      <td>R</td>\n",
       "      <td>Latest GitHub version: 11/4/2022,  v0.1.7\\n\\nN...</td>\n",
       "    </tr>\n",
       "    <tr>\n",
       "      <th>2</th>\n",
       "      <td>bttmly/nba</td>\n",
       "      <td>JavaScript</td>\n",
       "      <td># nba\\n*Node.js client for nba.com API endpoin...</td>\n",
       "    </tr>\n",
       "    <tr>\n",
       "      <th>3</th>\n",
       "      <td>kyleskom/NBA-Machine-Learning-Sports-Betting</td>\n",
       "      <td>Python</td>\n",
       "      <td># NBA Sports Betting Using Machine Learning 🏀\\...</td>\n",
       "    </tr>\n",
       "    <tr>\n",
       "      <th>4</th>\n",
       "      <td>linouk23/NBA-Player-Movements</td>\n",
       "      <td>Python</td>\n",
       "      <td># NBA Player Movements\\n\\nThis is a script for...</td>\n",
       "    </tr>\n",
       "  </tbody>\n",
       "</table>\n",
       "</div>"
      ],
      "text/plain": [
       "                                           repo    language  \\\n",
       "0                          ScottfreeLLC/AlphaPy      Python   \n",
       "1                         jalapic/engsoccerdata           R   \n",
       "2                                    bttmly/nba  JavaScript   \n",
       "3  kyleskom/NBA-Machine-Learning-Sports-Betting      Python   \n",
       "4                 linouk23/NBA-Player-Movements      Python   \n",
       "\n",
       "                                     readme_contents  \n",
       "0  AlphaPy\\n=======\\n\\n|badge_pypi| |badge_downlo...  \n",
       "1  Latest GitHub version: 11/4/2022,  v0.1.7\\n\\nN...  \n",
       "2  # nba\\n*Node.js client for nba.com API endpoin...  \n",
       "3  # NBA Sports Betting Using Machine Learning 🏀\\...  \n",
       "4  # NBA Player Movements\\n\\nThis is a script for...  "
      ]
     },
     "execution_count": 2,
     "metadata": {},
     "output_type": "execute_result"
    }
   ],
   "source": [
    "df = pd.read_csv('all_repos.csv')\n",
    "df.head()"
   ]
  },
  {
   "cell_type": "markdown",
   "id": "e36ec91f",
   "metadata": {},
   "source": [
    "---"
   ]
  },
  {
   "cell_type": "markdown",
   "id": "1b751bcb",
   "metadata": {},
   "source": [
    "# Wrangle"
   ]
  },
  {
   "cell_type": "code",
   "execution_count": 3,
   "id": "ab949854",
   "metadata": {
    "scrolled": true
   },
   "outputs": [
    {
     "name": "stderr",
     "output_type": "stream",
     "text": [
      "/Users/goat/codeup-data-science/NLP-Project/prepare.py:142: SettingWithCopyWarning: \n",
      "A value is trying to be set on a copy of a slice from a DataFrame.\n",
      "Try using .loc[row_indexer,col_indexer] = value instead\n",
      "\n",
      "See the caveats in the documentation: https://pandas.pydata.org/pandas-docs/stable/user_guide/indexing.html#returning-a-view-versus-a-copy\n",
      "  df['language'] = df['language'].replace(languages_to_rename, 'other')\n"
     ]
    }
   ],
   "source": [
    "df = p.actual_languages(df)"
   ]
  },
  {
   "cell_type": "code",
   "execution_count": 4,
   "id": "48510321",
   "metadata": {
    "scrolled": false
   },
   "outputs": [
    {
     "data": {
      "text/html": [
       "<div>\n",
       "<style scoped>\n",
       "    .dataframe tbody tr th:only-of-type {\n",
       "        vertical-align: middle;\n",
       "    }\n",
       "\n",
       "    .dataframe tbody tr th {\n",
       "        vertical-align: top;\n",
       "    }\n",
       "\n",
       "    .dataframe thead th {\n",
       "        text-align: right;\n",
       "    }\n",
       "</style>\n",
       "<table border=\"1\" class=\"dataframe\">\n",
       "  <thead>\n",
       "    <tr style=\"text-align: right;\">\n",
       "      <th></th>\n",
       "      <th>n</th>\n",
       "      <th>percent</th>\n",
       "    </tr>\n",
       "  </thead>\n",
       "  <tbody>\n",
       "    <tr>\n",
       "      <th>other</th>\n",
       "      <td>301</td>\n",
       "      <td>0.386393</td>\n",
       "    </tr>\n",
       "    <tr>\n",
       "      <th>Python</th>\n",
       "      <td>241</td>\n",
       "      <td>0.309371</td>\n",
       "    </tr>\n",
       "    <tr>\n",
       "      <th>JavaScript</th>\n",
       "      <td>154</td>\n",
       "      <td>0.197689</td>\n",
       "    </tr>\n",
       "    <tr>\n",
       "      <th>R</th>\n",
       "      <td>43</td>\n",
       "      <td>0.055199</td>\n",
       "    </tr>\n",
       "    <tr>\n",
       "      <th>TypeScript</th>\n",
       "      <td>40</td>\n",
       "      <td>0.051348</td>\n",
       "    </tr>\n",
       "  </tbody>\n",
       "</table>\n",
       "</div>"
      ],
      "text/plain": [
       "              n   percent\n",
       "other       301  0.386393\n",
       "Python      241  0.309371\n",
       "JavaScript  154  0.197689\n",
       "R            43  0.055199\n",
       "TypeScript   40  0.051348"
      ]
     },
     "execution_count": 4,
     "metadata": {},
     "output_type": "execute_result"
    }
   ],
   "source": [
    "p.labels_count(df)"
   ]
  },
  {
   "cell_type": "markdown",
   "id": "fc8d8446",
   "metadata": {},
   "source": [
    "---"
   ]
  },
  {
   "cell_type": "markdown",
   "id": "7679cefa",
   "metadata": {},
   "source": [
    "# Exploration"
   ]
  },
  {
   "cell_type": "markdown",
   "id": "baf1550a",
   "metadata": {},
   "source": [
    "## What are the most common words in READMEs?"
   ]
  },
  {
   "cell_type": "markdown",
   "id": "6bd2d727",
   "metadata": {},
   "source": [
    "## Does the length of the README vary by programming language?"
   ]
  },
  {
   "cell_type": "markdown",
   "id": "6cb13e6f",
   "metadata": {},
   "source": [
    "## Do different programming languages use a different number of unique words?"
   ]
  },
  {
   "cell_type": "markdown",
   "id": "4c2e5758",
   "metadata": {},
   "source": [
    "## Are there any words that uniquely identify a programming language?"
   ]
  },
  {
   "cell_type": "markdown",
   "id": "093ab188",
   "metadata": {},
   "source": [
    "## EDA Summary"
   ]
  },
  {
   "cell_type": "code",
   "execution_count": null,
   "id": "0998346a",
   "metadata": {},
   "outputs": [],
   "source": []
  },
  {
   "cell_type": "markdown",
   "id": "21890f43",
   "metadata": {},
   "source": [
    "---"
   ]
  },
  {
   "cell_type": "markdown",
   "id": "b488ff55",
   "metadata": {},
   "source": [
    "# Pre-Processing"
   ]
  },
  {
   "cell_type": "code",
   "execution_count": null,
   "id": "ee0fc06d",
   "metadata": {},
   "outputs": [],
   "source": []
  },
  {
   "cell_type": "markdown",
   "id": "2d8a1504",
   "metadata": {},
   "source": [
    "---"
   ]
  },
  {
   "cell_type": "markdown",
   "id": "7249e2dc",
   "metadata": {},
   "source": [
    "# Modeling"
   ]
  },
  {
   "cell_type": "markdown",
   "id": "c1f55d3a",
   "metadata": {},
   "source": [
    "## Baseline = "
   ]
  },
  {
   "cell_type": "markdown",
   "id": "fe31f0bc",
   "metadata": {},
   "source": [
    "---"
   ]
  },
  {
   "cell_type": "markdown",
   "id": "3565e6a6",
   "metadata": {},
   "source": [
    "# Conclusion"
   ]
  },
  {
   "cell_type": "markdown",
   "id": "48f5ee13",
   "metadata": {},
   "source": [
    "## Baseline = "
   ]
  },
  {
   "cell_type": "markdown",
   "id": "cb786d1c",
   "metadata": {},
   "source": [
    "---"
   ]
  },
  {
   "cell_type": "markdown",
   "id": "42eb9871",
   "metadata": {},
   "source": [
    "# Recomendations"
   ]
  },
  {
   "cell_type": "code",
   "execution_count": null,
   "id": "06cf38ec",
   "metadata": {},
   "outputs": [],
   "source": []
  },
  {
   "cell_type": "markdown",
   "id": "51b9b837",
   "metadata": {},
   "source": [
    "---"
   ]
  },
  {
   "cell_type": "markdown",
   "id": "bbf9adfc",
   "metadata": {},
   "source": [
    "# Next Steps"
   ]
  },
  {
   "cell_type": "code",
   "execution_count": null,
   "id": "3021cda4",
   "metadata": {},
   "outputs": [],
   "source": []
  },
  {
   "cell_type": "markdown",
   "id": "269bf706",
   "metadata": {},
   "source": [
    "---"
   ]
  }
 ],
 "metadata": {
  "kernelspec": {
   "display_name": "Python 3 (ipykernel)",
   "language": "python",
   "name": "python3"
  },
  "language_info": {
   "codemirror_mode": {
    "name": "ipython",
    "version": 3
   },
   "file_extension": ".py",
   "mimetype": "text/x-python",
   "name": "python",
   "nbconvert_exporter": "python",
   "pygments_lexer": "ipython3",
   "version": "3.11.3"
  }
 },
 "nbformat": 4,
 "nbformat_minor": 5
}
