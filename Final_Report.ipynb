{
 "cells": [
  {
   "cell_type": "markdown",
   "id": "237c686e",
   "metadata": {},
   "source": [
    "# Predicting Program Languages\n",
    "\n",
    "For this project our group will be scraping, and using api requests to acquire repository data from Github and attempt to create an NLP model to predict the primary programming language of the repo based off the contents of the readme file."
   ]
  },
  {
   "cell_type": "markdown",
   "id": "5e9dbe96",
   "metadata": {},
   "source": [
    "## Goals:\n",
    "\n",
    "* Scrape repo names from Github, and use api requests to create a database of repos\n",
    "* Explore data to see what words are most common in each respective language's readmes\n",
    "* Build a classification model that predicts program languages used in each repo on Github"
   ]
  },
  {
   "cell_type": "markdown",
   "id": "201b6d87",
   "metadata": {},
   "source": [
    "---"
   ]
  },
  {
   "cell_type": "markdown",
   "id": "60e24ca3",
   "metadata": {},
   "source": [
    "## Imports"
   ]
  },
  {
   "cell_type": "code",
   "execution_count": 41,
   "id": "82262fe9",
   "metadata": {},
   "outputs": [],
   "source": [
    "# Import function modules\n",
    "import prepare as p\n",
    "import acquire as a\n",
    "\n",
    "\n",
    "# Import data science libraries & visualization libraries\n",
    "import pandas as pd\n",
    "import numpy as np\n",
    "import matplotlib.pyplot as plt\n",
    "import seaborn as sns\n",
    "\n",
    "# Import nlp libraries and classification models\n",
    "import nltk\n",
    "from nltk.tokenize.toktok import ToktokTokenizer\n",
    "from nltk.corpus import stopwords\n",
    "from wordcloud import WordCloud\n",
    "from sklearn.feature_extraction.text import TfidfVectorizer\n",
    "from sklearn.model_selection import train_test_split\n",
    "from sklearn.linear_model import LogisticRegression\n",
    "from sklearn.ensemble import RandomForestClassifier\n",
    "from sklearn.tree import DecisionTreeClassifier, plot_tree\n",
    "from sklearn.neighbors import KNeighborsClassifier\n",
    "from sklearn.metrics import classification_report\n",
    "from sklearn.preprocessing import LabelEncoder\n",
    "from xgboost import XGBClassifier"
   ]
  },
  {
   "cell_type": "markdown",
   "id": "d9759a90",
   "metadata": {},
   "source": [
    "---"
   ]
  },
  {
   "cell_type": "markdown",
   "id": "efb6d24b",
   "metadata": {},
   "source": [
    "## Dictionary"
   ]
  },
  {
   "cell_type": "markdown",
   "id": "e1563f91",
   "metadata": {},
   "source": [
    "| Column         | Column_type | Data_type| Description              |\n",
    "|----------------|-------------|----------|--------------------------|\n",
    "|repo            |Feature      |string    |Name of the repositiory.  |\n",
    "|language        |Target       |string    |Programming language used.|\n",
    "|readme_contents |Feature      |string    |Contents for every readme.|"
   ]
  },
  {
   "cell_type": "markdown",
   "id": "ff16c926",
   "metadata": {},
   "source": [
    "---"
   ]
  },
  {
   "cell_type": "markdown",
   "id": "f3f23ac7",
   "metadata": {},
   "source": [
    "## Acquire"
   ]
  },
  {
   "cell_type": "markdown",
   "id": "d341a75d-e8b9-436a-b009-d41fe18f76e7",
   "metadata": {},
   "source": [
    "For data acquisition, the names of 100 pages worth of 'sports' repositories (1000 repos) were scraped using html requests. Then using api requests information such as language, name, and readme contents, was pulled from the repositories. This process was slow due to request limits so the data was cached into a csv once done."
   ]
  },
  {
   "cell_type": "code",
   "execution_count": 2,
   "id": "264a76bb",
   "metadata": {},
   "outputs": [
    {
     "data": {
      "text/html": [
       "<div>\n",
       "<style scoped>\n",
       "    .dataframe tbody tr th:only-of-type {\n",
       "        vertical-align: middle;\n",
       "    }\n",
       "\n",
       "    .dataframe tbody tr th {\n",
       "        vertical-align: top;\n",
       "    }\n",
       "\n",
       "    .dataframe thead th {\n",
       "        text-align: right;\n",
       "    }\n",
       "</style>\n",
       "<table border=\"1\" class=\"dataframe\">\n",
       "  <thead>\n",
       "    <tr style=\"text-align: right;\">\n",
       "      <th></th>\n",
       "      <th>repo</th>\n",
       "      <th>language</th>\n",
       "      <th>readme_contents</th>\n",
       "    </tr>\n",
       "  </thead>\n",
       "  <tbody>\n",
       "    <tr>\n",
       "      <th>0</th>\n",
       "      <td>ScottfreeLLC/AlphaPy</td>\n",
       "      <td>Python</td>\n",
       "      <td>AlphaPy\\n=======\\n\\n|badge_pypi| |badge_downlo...</td>\n",
       "    </tr>\n",
       "    <tr>\n",
       "      <th>1</th>\n",
       "      <td>jalapic/engsoccerdata</td>\n",
       "      <td>R</td>\n",
       "      <td>Latest GitHub version: 11/4/2022,  v0.1.7\\n\\nN...</td>\n",
       "    </tr>\n",
       "    <tr>\n",
       "      <th>2</th>\n",
       "      <td>bttmly/nba</td>\n",
       "      <td>JavaScript</td>\n",
       "      <td># nba\\n*Node.js client for nba.com API endpoin...</td>\n",
       "    </tr>\n",
       "  </tbody>\n",
       "</table>\n",
       "</div>"
      ],
      "text/plain": [
       "                    repo    language  \\\n",
       "0   ScottfreeLLC/AlphaPy      Python   \n",
       "1  jalapic/engsoccerdata           R   \n",
       "2             bttmly/nba  JavaScript   \n",
       "\n",
       "                                     readme_contents  \n",
       "0  AlphaPy\\n=======\\n\\n|badge_pypi| |badge_downlo...  \n",
       "1  Latest GitHub version: 11/4/2022,  v0.1.7\\n\\nN...  \n",
       "2  # nba\\n*Node.js client for nba.com API endpoin...  "
      ]
     },
     "execution_count": 2,
     "metadata": {},
     "output_type": "execute_result"
    }
   ],
   "source": [
    "pd.read_csv('all_repos.csv').head(3)  # Read data stored in .csv file"
   ]
  },
  {
   "cell_type": "markdown",
   "id": "e36ec91f",
   "metadata": {
    "tags": []
   },
   "source": [
    "---"
   ]
  },
  {
   "cell_type": "markdown",
   "id": "1b751bcb",
   "metadata": {},
   "source": [
    "## Wrangle"
   ]
  },
  {
   "cell_type": "markdown",
   "id": "691eb711-4949-4c64-9276-762e6a0e4b18",
   "metadata": {},
   "source": [
    "For data cleaning, any language that wasn't in the top 4 was grouped into 'other'. The extra number of languages severy impacted model performance, so grouping them was helpful. The data was also cleaned, stemmed, and lemmatized."
   ]
  },
  {
   "cell_type": "code",
   "execution_count": 3,
   "id": "ab949854",
   "metadata": {
    "scrolled": true
   },
   "outputs": [
    {
     "data": {
      "text/html": [
       "<div>\n",
       "<style scoped>\n",
       "    .dataframe tbody tr th:only-of-type {\n",
       "        vertical-align: middle;\n",
       "    }\n",
       "\n",
       "    .dataframe tbody tr th {\n",
       "        vertical-align: top;\n",
       "    }\n",
       "\n",
       "    .dataframe thead th {\n",
       "        text-align: right;\n",
       "    }\n",
       "</style>\n",
       "<table border=\"1\" class=\"dataframe\">\n",
       "  <thead>\n",
       "    <tr style=\"text-align: right;\">\n",
       "      <th></th>\n",
       "      <th>repo</th>\n",
       "      <th>language</th>\n",
       "      <th>readme_contents</th>\n",
       "      <th>clean</th>\n",
       "      <th>stemmed</th>\n",
       "      <th>lemmatized</th>\n",
       "    </tr>\n",
       "  </thead>\n",
       "  <tbody>\n",
       "    <tr>\n",
       "      <th>0</th>\n",
       "      <td>ScottfreeLLC/AlphaPy</td>\n",
       "      <td>Python</td>\n",
       "      <td>AlphaPy\\n=======\\n\\n|badge_pypi| |badge_downlo...</td>\n",
       "      <td>alphapy badgepypi badgedownloads badgedocs bad...</td>\n",
       "      <td>alphapi badgepypi badgedownload badgedoc badge...</td>\n",
       "      <td>alphapy badgepypi badgedownloads badgedocs bad...</td>\n",
       "    </tr>\n",
       "    <tr>\n",
       "      <th>1</th>\n",
       "      <td>jalapic/engsoccerdata</td>\n",
       "      <td>R</td>\n",
       "      <td>Latest GitHub version: 11/4/2022,  v0.1.7\\n\\nN...</td>\n",
       "      <td>latest github version 1142022 v017 nov 2022 up...</td>\n",
       "      <td>latest github version 1142022 v017 nov 2022 up...</td>\n",
       "      <td>latest github version 1142022 v017 nov 2022 up...</td>\n",
       "    </tr>\n",
       "    <tr>\n",
       "      <th>2</th>\n",
       "      <td>bttmly/nba</td>\n",
       "      <td>JavaScript</td>\n",
       "      <td># nba\\n*Node.js client for nba.com API endpoin...</td>\n",
       "      <td>nba nodejs client nbacom api endpoints npm ins...</td>\n",
       "      <td>nba nodej client nbacom api endpoint npm insta...</td>\n",
       "      <td>nba nodejs client nbacom api endpoint npm inst...</td>\n",
       "    </tr>\n",
       "  </tbody>\n",
       "</table>\n",
       "</div>"
      ],
      "text/plain": [
       "                    repo    language  \\\n",
       "0   ScottfreeLLC/AlphaPy      Python   \n",
       "1  jalapic/engsoccerdata           R   \n",
       "2             bttmly/nba  JavaScript   \n",
       "\n",
       "                                     readme_contents  \\\n",
       "0  AlphaPy\\n=======\\n\\n|badge_pypi| |badge_downlo...   \n",
       "1  Latest GitHub version: 11/4/2022,  v0.1.7\\n\\nN...   \n",
       "2  # nba\\n*Node.js client for nba.com API endpoin...   \n",
       "\n",
       "                                               clean  \\\n",
       "0  alphapy badgepypi badgedownloads badgedocs bad...   \n",
       "1  latest github version 1142022 v017 nov 2022 up...   \n",
       "2  nba nodejs client nbacom api endpoints npm ins...   \n",
       "\n",
       "                                             stemmed  \\\n",
       "0  alphapi badgepypi badgedownload badgedoc badge...   \n",
       "1  latest github version 1142022 v017 nov 2022 up...   \n",
       "2  nba nodej client nbacom api endpoint npm insta...   \n",
       "\n",
       "                                          lemmatized  \n",
       "0  alphapy badgepypi badgedownloads badgedocs bad...  \n",
       "1  latest github version 1142022 v017 nov 2022 up...  \n",
       "2  nba nodejs client nbacom api endpoint npm inst...  "
      ]
     },
     "execution_count": 3,
     "metadata": {},
     "output_type": "execute_result"
    }
   ],
   "source": [
    "repo = a.acquire_repos()  # Pull and clean data stored in .csv file\n",
    "repo.head(3)"
   ]
  },
  {
   "cell_type": "markdown",
   "id": "f7b2cb05-12ae-4699-bdc6-7535b047fb95",
   "metadata": {},
   "source": [
    "During the wrangling process, around 200 rows were dropped due to incorrect language (jupyter notebook), and missing data. "
   ]
  },
  {
   "cell_type": "markdown",
   "id": "fc8d8446",
   "metadata": {},
   "source": [
    "---"
   ]
  },
  {
   "cell_type": "markdown",
   "id": "7679cefa",
   "metadata": {},
   "source": [
    "## Exploration"
   ]
  },
  {
   "cell_type": "markdown",
   "id": "d97111d6-f0fe-4a54-8032-eabacd0758d6",
   "metadata": {},
   "source": [
    "Before beggining exploration the data is split into train, val, test so that only the train data is explored on."
   ]
  },
  {
   "cell_type": "code",
   "execution_count": 4,
   "id": "5fa043c1-de73-4bef-aeb7-e20fc9dbebb0",
   "metadata": {},
   "outputs": [
    {
     "name": "stdout",
     "output_type": "stream",
     "text": [
      "(557, 6) (120, 6) (120, 6)\n"
     ]
    }
   ],
   "source": [
    "train, val, test = p.train_val_test(repo, 'language', stratify=True)  # Splits data and stratifies by target variable"
   ]
  },
  {
   "cell_type": "markdown",
   "id": "441b644d-432a-4285-a4b7-e98d2bfcfaca",
   "metadata": {},
   "source": [
    "Then, a dataframe of the total number of time each word appeared in each language is created."
   ]
  },
  {
   "cell_type": "code",
   "execution_count": 5,
   "id": "3c2e1e07-b04c-4e57-a4d9-f7ac48c70fa8",
   "metadata": {},
   "outputs": [
    {
     "data": {
      "text/html": [
       "<div>\n",
       "<style scoped>\n",
       "    .dataframe tbody tr th:only-of-type {\n",
       "        vertical-align: middle;\n",
       "    }\n",
       "\n",
       "    .dataframe tbody tr th {\n",
       "        vertical-align: top;\n",
       "    }\n",
       "\n",
       "    .dataframe thead th {\n",
       "        text-align: right;\n",
       "    }\n",
       "</style>\n",
       "<table border=\"1\" class=\"dataframe\">\n",
       "  <thead>\n",
       "    <tr style=\"text-align: right;\">\n",
       "      <th></th>\n",
       "      <th>all</th>\n",
       "      <th>Other</th>\n",
       "      <th>R</th>\n",
       "      <th>Python</th>\n",
       "      <th>JavaScript</th>\n",
       "      <th>TypeScript</th>\n",
       "    </tr>\n",
       "  </thead>\n",
       "  <tbody>\n",
       "    <tr>\n",
       "      <th>data</th>\n",
       "      <td>1105</td>\n",
       "      <td>276</td>\n",
       "      <td>144</td>\n",
       "      <td>461</td>\n",
       "      <td>109</td>\n",
       "      <td>115</td>\n",
       "    </tr>\n",
       "    <tr>\n",
       "      <th>barry</th>\n",
       "      <td>808</td>\n",
       "      <td>0</td>\n",
       "      <td>0</td>\n",
       "      <td>758</td>\n",
       "      <td>50</td>\n",
       "      <td>0</td>\n",
       "    </tr>\n",
       "    <tr>\n",
       "      <th>1</th>\n",
       "      <td>743</td>\n",
       "      <td>277</td>\n",
       "      <td>71</td>\n",
       "      <td>241</td>\n",
       "      <td>133</td>\n",
       "      <td>21</td>\n",
       "    </tr>\n",
       "  </tbody>\n",
       "</table>\n",
       "</div>"
      ],
      "text/plain": [
       "        all  Other    R  Python  JavaScript  TypeScript\n",
       "data   1105    276  144     461         109         115\n",
       "barry   808      0    0     758          50           0\n",
       "1       743    277   71     241         133          21"
      ]
     },
     "execution_count": 5,
     "metadata": {},
     "output_type": "execute_result"
    }
   ],
   "source": [
    "# Use function to create a dataframe with the word counts of each word\n",
    "repo = p.word_counts(train, 'language', 'clean')\n",
    "repo.head(3)"
   ]
  },
  {
   "cell_type": "markdown",
   "id": "b54b776b-b340-48fa-8857-ad96079b9974",
   "metadata": {},
   "source": [
    "We will also calculate in how many documents each word appeared in."
   ]
  },
  {
   "cell_type": "code",
   "execution_count": 6,
   "id": "90a60128-6ff8-4a47-a192-f04e49033a2c",
   "metadata": {},
   "outputs": [],
   "source": [
    "total_appearances = p.word_appearances(repo, train)  # Calculate the number of separate readmes that a word appeared in\n",
    "word_counts['total_appearances'] = total_appearances"
   ]
  },
  {
   "cell_type": "markdown",
   "id": "baf1550a",
   "metadata": {},
   "source": [
    "### What are the most common words in READMEs?"
   ]
  },
  {
   "cell_type": "markdown",
   "id": "6bd2d727",
   "metadata": {},
   "source": [
    "### Does the length of the README vary by programming language?"
   ]
  },
  {
   "cell_type": "markdown",
   "id": "6cb13e6f",
   "metadata": {},
   "source": [
    "### Do different programming languages use a different number of unique words?"
   ]
  },
  {
   "cell_type": "markdown",
   "id": "4c2e5758",
   "metadata": {},
   "source": [
    "### Are there any words that uniquely identify a programming language?"
   ]
  },
  {
   "cell_type": "markdown",
   "id": "093ab188",
   "metadata": {},
   "source": [
    "### EDA Summary"
   ]
  },
  {
   "cell_type": "markdown",
   "id": "21890f43",
   "metadata": {},
   "source": [
    "---"
   ]
  },
  {
   "cell_type": "markdown",
   "id": "7249e2dc",
   "metadata": {
    "tags": []
   },
   "source": [
    "## Modeling"
   ]
  },
  {
   "cell_type": "markdown",
   "id": "f36740eb-ad7f-4b4e-8e12-9d3c2829b4db",
   "metadata": {},
   "source": [
    "Now we will create some models to try to predict the primary language of a repo based off the readme contents"
   ]
  },
  {
   "cell_type": "code",
   "execution_count": 27,
   "id": "652b33db-ee8f-4568-99dd-3c5eabbd4cd0",
   "metadata": {},
   "outputs": [],
   "source": [
    "# Create dataframe again\n",
    "repo = pd.read_csv('all_repos.csv')\n",
    "repo.language = p.top_languages(repo, 4)"
   ]
  },
  {
   "cell_type": "markdown",
   "id": "c1f55d3a",
   "metadata": {},
   "source": [
    "### Baseline"
   ]
  },
  {
   "cell_type": "markdown",
   "id": "c711b4e5-e3e3-4a85-95e4-b7d230dfac3e",
   "metadata": {},
   "source": [
    "The first mode created is the baseline."
   ]
  },
  {
   "cell_type": "code",
   "execution_count": 16,
   "id": "da689bf1-96d8-494f-8437-34ac9ec1acc7",
   "metadata": {},
   "outputs": [
    {
     "name": "stdout",
     "output_type": "stream",
     "text": [
      "Baseline accuracy: 0.43\n"
     ]
    }
   ],
   "source": [
    "# Calculate baseline from the mode of the languages\n",
    "baseline = pd.DataFrame(train.language)\n",
    "baseline['baseline'] = baseline.language.value_counts().index[0]\n",
    "print(f'Baseline accuracy: {round((baseline.language == baseline.baseline).sum()/(len(baseline)),2)}')"
   ]
  },
  {
   "cell_type": "markdown",
   "id": "d08e9d2b-4e3d-46f1-bd6e-24f4ee57b4d3",
   "metadata": {},
   "source": [
    "Baseline model only guesses 'other' since it is the most common 'language'. The baseline accuracy is only 43%!"
   ]
  },
  {
   "cell_type": "markdown",
   "id": "b488ff55",
   "metadata": {},
   "source": [
    "### Pre-Processing"
   ]
  },
  {
   "cell_type": "markdown",
   "id": "0b7deb2a-8a5e-418e-9802-785e793b9bc0",
   "metadata": {},
   "source": [
    "Using the word counts per language, a filter is created to eliminate words that appear very few times."
   ]
  },
  {
   "cell_type": "code",
   "execution_count": 56,
   "id": "8cbf29c2-832d-4bdb-bc9e-885f46e126c1",
   "metadata": {},
   "outputs": [],
   "source": [
    "repo2 = p.cleanse(repo, 'readme_contents')\n",
    "all_words = p.word_counts(repo2, 'language', 'clean')  # Use word counts to create filter\n",
    "word_filter = list(all_words[all_words['all'] < 35].index)  # Create list to remove all words that appear less than 35 times total"
   ]
  },
  {
   "cell_type": "code",
   "execution_count": 52,
   "id": "f2b71529-b180-4578-ac0d-1c6213943c46",
   "metadata": {},
   "outputs": [],
   "source": [
    "repo = p.cleanse(repo, 'readme_contents', extra_words=word_filter)  # Clean data\n",
    "train, val, test = p.train_val_test(repo, 'language', stratify=True, print_shape=False)\n",
    "X_train_tfidf, y_train, X_val_tfidf, y_val, X_test_tfidf, y_test = p.preprocess(train, val, test)"
   ]
  },
  {
   "cell_type": "markdown",
   "id": "57d64f2b-b984-4b7c-996d-c1e6dc6e581d",
   "metadata": {},
   "source": [
    "Before modeling data is split into x and y and each word is turned into a feature so the models can properly use data."
   ]
  },
  {
   "cell_type": "markdown",
   "id": "7f4ff2b1-0d32-4632-b11c-2e74c69f2cfb",
   "metadata": {},
   "source": [
    "### XGBRegressor"
   ]
  },
  {
   "cell_type": "markdown",
   "id": "1fd8a361-2b81-404b-82d5-e821f3099cc0",
   "metadata": {},
   "source": [
    "XGB was the third best model. It is extremelly overfit."
   ]
  },
  {
   "cell_type": "code",
   "execution_count": 74,
   "id": "26f50735-7b48-4efe-932b-3d19d6dac0f6",
   "metadata": {},
   "outputs": [
    {
     "data": {
      "text/html": [
       "<style>#sk-container-id-11 {color: black;background-color: white;}#sk-container-id-11 pre{padding: 0;}#sk-container-id-11 div.sk-toggleable {background-color: white;}#sk-container-id-11 label.sk-toggleable__label {cursor: pointer;display: block;width: 100%;margin-bottom: 0;padding: 0.3em;box-sizing: border-box;text-align: center;}#sk-container-id-11 label.sk-toggleable__label-arrow:before {content: \"▸\";float: left;margin-right: 0.25em;color: #696969;}#sk-container-id-11 label.sk-toggleable__label-arrow:hover:before {color: black;}#sk-container-id-11 div.sk-estimator:hover label.sk-toggleable__label-arrow:before {color: black;}#sk-container-id-11 div.sk-toggleable__content {max-height: 0;max-width: 0;overflow: hidden;text-align: left;background-color: #f0f8ff;}#sk-container-id-11 div.sk-toggleable__content pre {margin: 0.2em;color: black;border-radius: 0.25em;background-color: #f0f8ff;}#sk-container-id-11 input.sk-toggleable__control:checked~div.sk-toggleable__content {max-height: 200px;max-width: 100%;overflow: auto;}#sk-container-id-11 input.sk-toggleable__control:checked~label.sk-toggleable__label-arrow:before {content: \"▾\";}#sk-container-id-11 div.sk-estimator input.sk-toggleable__control:checked~label.sk-toggleable__label {background-color: #d4ebff;}#sk-container-id-11 div.sk-label input.sk-toggleable__control:checked~label.sk-toggleable__label {background-color: #d4ebff;}#sk-container-id-11 input.sk-hidden--visually {border: 0;clip: rect(1px 1px 1px 1px);clip: rect(1px, 1px, 1px, 1px);height: 1px;margin: -1px;overflow: hidden;padding: 0;position: absolute;width: 1px;}#sk-container-id-11 div.sk-estimator {font-family: monospace;background-color: #f0f8ff;border: 1px dotted black;border-radius: 0.25em;box-sizing: border-box;margin-bottom: 0.5em;}#sk-container-id-11 div.sk-estimator:hover {background-color: #d4ebff;}#sk-container-id-11 div.sk-parallel-item::after {content: \"\";width: 100%;border-bottom: 1px solid gray;flex-grow: 1;}#sk-container-id-11 div.sk-label:hover label.sk-toggleable__label {background-color: #d4ebff;}#sk-container-id-11 div.sk-serial::before {content: \"\";position: absolute;border-left: 1px solid gray;box-sizing: border-box;top: 0;bottom: 0;left: 50%;z-index: 0;}#sk-container-id-11 div.sk-serial {display: flex;flex-direction: column;align-items: center;background-color: white;padding-right: 0.2em;padding-left: 0.2em;position: relative;}#sk-container-id-11 div.sk-item {position: relative;z-index: 1;}#sk-container-id-11 div.sk-parallel {display: flex;align-items: stretch;justify-content: center;background-color: white;position: relative;}#sk-container-id-11 div.sk-item::before, #sk-container-id-11 div.sk-parallel-item::before {content: \"\";position: absolute;border-left: 1px solid gray;box-sizing: border-box;top: 0;bottom: 0;left: 50%;z-index: -1;}#sk-container-id-11 div.sk-parallel-item {display: flex;flex-direction: column;z-index: 1;position: relative;background-color: white;}#sk-container-id-11 div.sk-parallel-item:first-child::after {align-self: flex-end;width: 50%;}#sk-container-id-11 div.sk-parallel-item:last-child::after {align-self: flex-start;width: 50%;}#sk-container-id-11 div.sk-parallel-item:only-child::after {width: 0;}#sk-container-id-11 div.sk-dashed-wrapped {border: 1px dashed gray;margin: 0 0.4em 0.5em 0.4em;box-sizing: border-box;padding-bottom: 0.4em;background-color: white;}#sk-container-id-11 div.sk-label label {font-family: monospace;font-weight: bold;display: inline-block;line-height: 1.2em;}#sk-container-id-11 div.sk-label-container {text-align: center;}#sk-container-id-11 div.sk-container {/* jupyter's `normalize.less` sets `[hidden] { display: none; }` but bootstrap.min.css set `[hidden] { display: none !important; }` so we also need the `!important` here to be able to override the default hidden behavior on the sphinx rendered scikit-learn.org. See: https://github.com/scikit-learn/scikit-learn/issues/21755 */display: inline-block !important;position: relative;}#sk-container-id-11 div.sk-text-repr-fallback {display: none;}</style><div id=\"sk-container-id-11\" class=\"sk-top-container\"><div class=\"sk-text-repr-fallback\"><pre>XGBClassifier(base_score=None, booster=None, callbacks=None,\n",
       "              colsample_bylevel=None, colsample_bynode=None,\n",
       "              colsample_bytree=None, early_stopping_rounds=None,\n",
       "              enable_categorical=False, eval_metric=None, feature_types=None,\n",
       "              gamma=None, gpu_id=None, grow_policy=None, importance_type=None,\n",
       "              interaction_constraints=None, learning_rate=None, max_bin=None,\n",
       "              max_cat_threshold=None, max_cat_to_onehot=None,\n",
       "              max_delta_step=None, max_depth=None, max_leaves=None,\n",
       "              min_child_weight=None, missing=nan, monotone_constraints=None,\n",
       "              n_estimators=100, n_jobs=None, num_parallel_tree=None,\n",
       "              objective=&#x27;multi:softprob&#x27;, predictor=None, ...)</pre><b>In a Jupyter environment, please rerun this cell to show the HTML representation or trust the notebook. <br />On GitHub, the HTML representation is unable to render, please try loading this page with nbviewer.org.</b></div><div class=\"sk-container\" hidden><div class=\"sk-item\"><div class=\"sk-estimator sk-toggleable\"><input class=\"sk-toggleable__control sk-hidden--visually\" id=\"sk-estimator-id-11\" type=\"checkbox\" checked><label for=\"sk-estimator-id-11\" class=\"sk-toggleable__label sk-toggleable__label-arrow\">XGBClassifier</label><div class=\"sk-toggleable__content\"><pre>XGBClassifier(base_score=None, booster=None, callbacks=None,\n",
       "              colsample_bylevel=None, colsample_bynode=None,\n",
       "              colsample_bytree=None, early_stopping_rounds=None,\n",
       "              enable_categorical=False, eval_metric=None, feature_types=None,\n",
       "              gamma=None, gpu_id=None, grow_policy=None, importance_type=None,\n",
       "              interaction_constraints=None, learning_rate=None, max_bin=None,\n",
       "              max_cat_threshold=None, max_cat_to_onehot=None,\n",
       "              max_delta_step=None, max_depth=None, max_leaves=None,\n",
       "              min_child_weight=None, missing=nan, monotone_constraints=None,\n",
       "              n_estimators=100, n_jobs=None, num_parallel_tree=None,\n",
       "              objective=&#x27;multi:softprob&#x27;, predictor=None, ...)</pre></div></div></div></div></div>"
      ],
      "text/plain": [
       "XGBClassifier(base_score=None, booster=None, callbacks=None,\n",
       "              colsample_bylevel=None, colsample_bynode=None,\n",
       "              colsample_bytree=None, early_stopping_rounds=None,\n",
       "              enable_categorical=False, eval_metric=None, feature_types=None,\n",
       "              gamma=None, gpu_id=None, grow_policy=None, importance_type=None,\n",
       "              interaction_constraints=None, learning_rate=None, max_bin=None,\n",
       "              max_cat_threshold=None, max_cat_to_onehot=None,\n",
       "              max_delta_step=None, max_depth=None, max_leaves=None,\n",
       "              min_child_weight=None, missing=nan, monotone_constraints=None,\n",
       "              n_estimators=100, n_jobs=None, num_parallel_tree=None,\n",
       "              objective='multi:softprob', predictor=None, ...)"
      ]
     },
     "execution_count": 74,
     "metadata": {},
     "output_type": "execute_result"
    }
   ],
   "source": [
    "# Create label ecoder and encode tager variable\n",
    "le = LabelEncoder()\n",
    "y_train_encoded = le.fit_transform(y_train)\n",
    "y_val_encoded = le.fit_transform(y_val)\n",
    "\n",
    "# Create and train model object\n",
    "xgb = XGBClassifier()\n",
    "xgb.fit(X_train_tfidf, y_train_encoded)"
   ]
  },
  {
   "cell_type": "code",
   "execution_count": 75,
   "id": "4cbf079b-9515-418a-9fc9-4063de9a7a36",
   "metadata": {},
   "outputs": [
    {
     "name": "stdout",
     "output_type": "stream",
     "text": [
      " 0.99\n",
      " 0.63\n"
     ]
    }
   ],
   "source": [
    "# Score model\n",
    "p.test_model(xgb, X_train_tfidf, y_train_encoded)\n",
    "p.test_model(xgb, X_val_tfidf, y_val_encoded)"
   ]
  },
  {
   "cell_type": "markdown",
   "id": "ac7b5963-549e-45d8-8b4d-7f45c4450747",
   "metadata": {},
   "source": [
    "### Linear Regression"
   ]
  },
  {
   "cell_type": "markdown",
   "id": "82529015-7774-4925-bb09-a76d2ca3173e",
   "metadata": {},
   "source": [
    "Linear regression performed the second best and it was less overfit."
   ]
  },
  {
   "cell_type": "code",
   "execution_count": 76,
   "id": "5591e5ea-f6c1-4be6-ac72-0f824a5d1535",
   "metadata": {},
   "outputs": [
    {
     "data": {
      "text/html": [
       "<style>#sk-container-id-12 {color: black;background-color: white;}#sk-container-id-12 pre{padding: 0;}#sk-container-id-12 div.sk-toggleable {background-color: white;}#sk-container-id-12 label.sk-toggleable__label {cursor: pointer;display: block;width: 100%;margin-bottom: 0;padding: 0.3em;box-sizing: border-box;text-align: center;}#sk-container-id-12 label.sk-toggleable__label-arrow:before {content: \"▸\";float: left;margin-right: 0.25em;color: #696969;}#sk-container-id-12 label.sk-toggleable__label-arrow:hover:before {color: black;}#sk-container-id-12 div.sk-estimator:hover label.sk-toggleable__label-arrow:before {color: black;}#sk-container-id-12 div.sk-toggleable__content {max-height: 0;max-width: 0;overflow: hidden;text-align: left;background-color: #f0f8ff;}#sk-container-id-12 div.sk-toggleable__content pre {margin: 0.2em;color: black;border-radius: 0.25em;background-color: #f0f8ff;}#sk-container-id-12 input.sk-toggleable__control:checked~div.sk-toggleable__content {max-height: 200px;max-width: 100%;overflow: auto;}#sk-container-id-12 input.sk-toggleable__control:checked~label.sk-toggleable__label-arrow:before {content: \"▾\";}#sk-container-id-12 div.sk-estimator input.sk-toggleable__control:checked~label.sk-toggleable__label {background-color: #d4ebff;}#sk-container-id-12 div.sk-label input.sk-toggleable__control:checked~label.sk-toggleable__label {background-color: #d4ebff;}#sk-container-id-12 input.sk-hidden--visually {border: 0;clip: rect(1px 1px 1px 1px);clip: rect(1px, 1px, 1px, 1px);height: 1px;margin: -1px;overflow: hidden;padding: 0;position: absolute;width: 1px;}#sk-container-id-12 div.sk-estimator {font-family: monospace;background-color: #f0f8ff;border: 1px dotted black;border-radius: 0.25em;box-sizing: border-box;margin-bottom: 0.5em;}#sk-container-id-12 div.sk-estimator:hover {background-color: #d4ebff;}#sk-container-id-12 div.sk-parallel-item::after {content: \"\";width: 100%;border-bottom: 1px solid gray;flex-grow: 1;}#sk-container-id-12 div.sk-label:hover label.sk-toggleable__label {background-color: #d4ebff;}#sk-container-id-12 div.sk-serial::before {content: \"\";position: absolute;border-left: 1px solid gray;box-sizing: border-box;top: 0;bottom: 0;left: 50%;z-index: 0;}#sk-container-id-12 div.sk-serial {display: flex;flex-direction: column;align-items: center;background-color: white;padding-right: 0.2em;padding-left: 0.2em;position: relative;}#sk-container-id-12 div.sk-item {position: relative;z-index: 1;}#sk-container-id-12 div.sk-parallel {display: flex;align-items: stretch;justify-content: center;background-color: white;position: relative;}#sk-container-id-12 div.sk-item::before, #sk-container-id-12 div.sk-parallel-item::before {content: \"\";position: absolute;border-left: 1px solid gray;box-sizing: border-box;top: 0;bottom: 0;left: 50%;z-index: -1;}#sk-container-id-12 div.sk-parallel-item {display: flex;flex-direction: column;z-index: 1;position: relative;background-color: white;}#sk-container-id-12 div.sk-parallel-item:first-child::after {align-self: flex-end;width: 50%;}#sk-container-id-12 div.sk-parallel-item:last-child::after {align-self: flex-start;width: 50%;}#sk-container-id-12 div.sk-parallel-item:only-child::after {width: 0;}#sk-container-id-12 div.sk-dashed-wrapped {border: 1px dashed gray;margin: 0 0.4em 0.5em 0.4em;box-sizing: border-box;padding-bottom: 0.4em;background-color: white;}#sk-container-id-12 div.sk-label label {font-family: monospace;font-weight: bold;display: inline-block;line-height: 1.2em;}#sk-container-id-12 div.sk-label-container {text-align: center;}#sk-container-id-12 div.sk-container {/* jupyter's `normalize.less` sets `[hidden] { display: none; }` but bootstrap.min.css set `[hidden] { display: none !important; }` so we also need the `!important` here to be able to override the default hidden behavior on the sphinx rendered scikit-learn.org. See: https://github.com/scikit-learn/scikit-learn/issues/21755 */display: inline-block !important;position: relative;}#sk-container-id-12 div.sk-text-repr-fallback {display: none;}</style><div id=\"sk-container-id-12\" class=\"sk-top-container\"><div class=\"sk-text-repr-fallback\"><pre>LogisticRegression(class_weight=&#x27;balanced&#x27;)</pre><b>In a Jupyter environment, please rerun this cell to show the HTML representation or trust the notebook. <br />On GitHub, the HTML representation is unable to render, please try loading this page with nbviewer.org.</b></div><div class=\"sk-container\" hidden><div class=\"sk-item\"><div class=\"sk-estimator sk-toggleable\"><input class=\"sk-toggleable__control sk-hidden--visually\" id=\"sk-estimator-id-12\" type=\"checkbox\" checked><label for=\"sk-estimator-id-12\" class=\"sk-toggleable__label sk-toggleable__label-arrow\">LogisticRegression</label><div class=\"sk-toggleable__content\"><pre>LogisticRegression(class_weight=&#x27;balanced&#x27;)</pre></div></div></div></div></div>"
      ],
      "text/plain": [
       "LogisticRegression(class_weight='balanced')"
      ]
     },
     "execution_count": 76,
     "metadata": {},
     "output_type": "execute_result"
    }
   ],
   "source": [
    "# Create and train model object\n",
    "lm = LogisticRegression(class_weight='balanced')\n",
    "lm.fit(X_train_tfidf, y_train)"
   ]
  },
  {
   "cell_type": "code",
   "execution_count": 77,
   "id": "c1b298e5-c04b-40e0-840e-f13406e7aea4",
   "metadata": {},
   "outputs": [
    {
     "name": "stdout",
     "output_type": "stream",
     "text": [
      " 0.88\n",
      " 0.66\n"
     ]
    }
   ],
   "source": [
    "# Score model\n",
    "p.test_model(lm, X_train_tfidf, y_train)\n",
    "p.test_model(lm, X_val_tfidf, y_val)"
   ]
  },
  {
   "cell_type": "markdown",
   "id": "b55c8a76-35d7-46d6-aa85-c8e02991019f",
   "metadata": {},
   "source": [
    "### Random Forest Classifier"
   ]
  },
  {
   "cell_type": "markdown",
   "id": "cc7f2416-7ace-4c38-b018-91f3b5c9dc2e",
   "metadata": {},
   "source": [
    "The best model was random forest classifier"
   ]
  },
  {
   "cell_type": "code",
   "execution_count": 72,
   "id": "4d20fbbe-a695-41d3-8057-881f6d94b32e",
   "metadata": {},
   "outputs": [
    {
     "data": {
      "text/html": [
       "<style>#sk-container-id-10 {color: black;background-color: white;}#sk-container-id-10 pre{padding: 0;}#sk-container-id-10 div.sk-toggleable {background-color: white;}#sk-container-id-10 label.sk-toggleable__label {cursor: pointer;display: block;width: 100%;margin-bottom: 0;padding: 0.3em;box-sizing: border-box;text-align: center;}#sk-container-id-10 label.sk-toggleable__label-arrow:before {content: \"▸\";float: left;margin-right: 0.25em;color: #696969;}#sk-container-id-10 label.sk-toggleable__label-arrow:hover:before {color: black;}#sk-container-id-10 div.sk-estimator:hover label.sk-toggleable__label-arrow:before {color: black;}#sk-container-id-10 div.sk-toggleable__content {max-height: 0;max-width: 0;overflow: hidden;text-align: left;background-color: #f0f8ff;}#sk-container-id-10 div.sk-toggleable__content pre {margin: 0.2em;color: black;border-radius: 0.25em;background-color: #f0f8ff;}#sk-container-id-10 input.sk-toggleable__control:checked~div.sk-toggleable__content {max-height: 200px;max-width: 100%;overflow: auto;}#sk-container-id-10 input.sk-toggleable__control:checked~label.sk-toggleable__label-arrow:before {content: \"▾\";}#sk-container-id-10 div.sk-estimator input.sk-toggleable__control:checked~label.sk-toggleable__label {background-color: #d4ebff;}#sk-container-id-10 div.sk-label input.sk-toggleable__control:checked~label.sk-toggleable__label {background-color: #d4ebff;}#sk-container-id-10 input.sk-hidden--visually {border: 0;clip: rect(1px 1px 1px 1px);clip: rect(1px, 1px, 1px, 1px);height: 1px;margin: -1px;overflow: hidden;padding: 0;position: absolute;width: 1px;}#sk-container-id-10 div.sk-estimator {font-family: monospace;background-color: #f0f8ff;border: 1px dotted black;border-radius: 0.25em;box-sizing: border-box;margin-bottom: 0.5em;}#sk-container-id-10 div.sk-estimator:hover {background-color: #d4ebff;}#sk-container-id-10 div.sk-parallel-item::after {content: \"\";width: 100%;border-bottom: 1px solid gray;flex-grow: 1;}#sk-container-id-10 div.sk-label:hover label.sk-toggleable__label {background-color: #d4ebff;}#sk-container-id-10 div.sk-serial::before {content: \"\";position: absolute;border-left: 1px solid gray;box-sizing: border-box;top: 0;bottom: 0;left: 50%;z-index: 0;}#sk-container-id-10 div.sk-serial {display: flex;flex-direction: column;align-items: center;background-color: white;padding-right: 0.2em;padding-left: 0.2em;position: relative;}#sk-container-id-10 div.sk-item {position: relative;z-index: 1;}#sk-container-id-10 div.sk-parallel {display: flex;align-items: stretch;justify-content: center;background-color: white;position: relative;}#sk-container-id-10 div.sk-item::before, #sk-container-id-10 div.sk-parallel-item::before {content: \"\";position: absolute;border-left: 1px solid gray;box-sizing: border-box;top: 0;bottom: 0;left: 50%;z-index: -1;}#sk-container-id-10 div.sk-parallel-item {display: flex;flex-direction: column;z-index: 1;position: relative;background-color: white;}#sk-container-id-10 div.sk-parallel-item:first-child::after {align-self: flex-end;width: 50%;}#sk-container-id-10 div.sk-parallel-item:last-child::after {align-self: flex-start;width: 50%;}#sk-container-id-10 div.sk-parallel-item:only-child::after {width: 0;}#sk-container-id-10 div.sk-dashed-wrapped {border: 1px dashed gray;margin: 0 0.4em 0.5em 0.4em;box-sizing: border-box;padding-bottom: 0.4em;background-color: white;}#sk-container-id-10 div.sk-label label {font-family: monospace;font-weight: bold;display: inline-block;line-height: 1.2em;}#sk-container-id-10 div.sk-label-container {text-align: center;}#sk-container-id-10 div.sk-container {/* jupyter's `normalize.less` sets `[hidden] { display: none; }` but bootstrap.min.css set `[hidden] { display: none !important; }` so we also need the `!important` here to be able to override the default hidden behavior on the sphinx rendered scikit-learn.org. See: https://github.com/scikit-learn/scikit-learn/issues/21755 */display: inline-block !important;position: relative;}#sk-container-id-10 div.sk-text-repr-fallback {display: none;}</style><div id=\"sk-container-id-10\" class=\"sk-top-container\"><div class=\"sk-text-repr-fallback\"><pre>RandomForestClassifier(random_state=42)</pre><b>In a Jupyter environment, please rerun this cell to show the HTML representation or trust the notebook. <br />On GitHub, the HTML representation is unable to render, please try loading this page with nbviewer.org.</b></div><div class=\"sk-container\" hidden><div class=\"sk-item\"><div class=\"sk-estimator sk-toggleable\"><input class=\"sk-toggleable__control sk-hidden--visually\" id=\"sk-estimator-id-10\" type=\"checkbox\" checked><label for=\"sk-estimator-id-10\" class=\"sk-toggleable__label sk-toggleable__label-arrow\">RandomForestClassifier</label><div class=\"sk-toggleable__content\"><pre>RandomForestClassifier(random_state=42)</pre></div></div></div></div></div>"
      ],
      "text/plain": [
       "RandomForestClassifier(random_state=42)"
      ]
     },
     "execution_count": 72,
     "metadata": {},
     "output_type": "execute_result"
    }
   ],
   "source": [
    "rfc = RandomForestClassifier(random_state=42)  # Create model object\n",
    "rfc.fit(X_train_tfidf, y_train)  # Fit model"
   ]
  },
  {
   "cell_type": "code",
   "execution_count": 73,
   "id": "f17f109d-83c6-4952-87eb-1e0291f9601e",
   "metadata": {},
   "outputs": [
    {
     "name": "stdout",
     "output_type": "stream",
     "text": [
      " 0.99\n",
      " 0.67\n",
      " 0.63\n"
     ]
    }
   ],
   "source": [
    "# Score model\n",
    "p.test_model(rfc, X_train_tfidf, y_train)\n",
    "p.test_model(rfc, X_val_tfidf, y_val)\n",
    "p.test_model(rfc, X_test_tfidf, y_test)"
   ]
  },
  {
   "cell_type": "markdown",
   "id": "b5f5dabd-73dc-4cfb-a7cb-8d8ced9dde7a",
   "metadata": {},
   "source": [
    "Random forest classifier was very overfit and validated at 67% accuracy and tested at 63% accuracy."
   ]
  },
  {
   "cell_type": "markdown",
   "id": "fe31f0bc",
   "metadata": {},
   "source": [
    "---"
   ]
  },
  {
   "cell_type": "markdown",
   "id": "3565e6a6",
   "metadata": {},
   "source": [
    "# Conclusion"
   ]
  },
  {
   "cell_type": "markdown",
   "id": "5fcd7f5c-1f01-414e-9070-48d69a34f8b6",
   "metadata": {},
   "source": []
  },
  {
   "cell_type": "markdown",
   "id": "bb00bd20-988c-47bd-80b5-879b8045d8c2",
   "metadata": {},
   "source": []
  },
  {
   "cell_type": "markdown",
   "id": "cff8e293-e11c-4a5c-b2ee-888e4a1388f6",
   "metadata": {},
   "source": []
  },
  {
   "cell_type": "markdown",
   "id": "da163011-76bc-40dd-be4a-56e1ccc1e403",
   "metadata": {},
   "source": []
  },
  {
   "cell_type": "markdown",
   "id": "cb786d1c",
   "metadata": {},
   "source": [
    "---"
   ]
  },
  {
   "cell_type": "markdown",
   "id": "42eb9871",
   "metadata": {},
   "source": [
    "# Recomendations"
   ]
  },
  {
   "cell_type": "code",
   "execution_count": null,
   "id": "06cf38ec",
   "metadata": {},
   "outputs": [],
   "source": []
  },
  {
   "cell_type": "markdown",
   "id": "51b9b837",
   "metadata": {},
   "source": [
    "---"
   ]
  },
  {
   "cell_type": "markdown",
   "id": "bbf9adfc",
   "metadata": {},
   "source": [
    "# Next Steps"
   ]
  },
  {
   "cell_type": "code",
   "execution_count": null,
   "id": "3021cda4",
   "metadata": {},
   "outputs": [],
   "source": []
  },
  {
   "cell_type": "markdown",
   "id": "269bf706",
   "metadata": {},
   "source": [
    "---"
   ]
  }
 ],
 "metadata": {
  "kernelspec": {
   "display_name": "Python 3 (ipykernel)",
   "language": "python",
   "name": "python3"
  },
  "language_info": {
   "codemirror_mode": {
    "name": "ipython",
    "version": 3
   },
   "file_extension": ".py",
   "mimetype": "text/x-python",
   "name": "python",
   "nbconvert_exporter": "python",
   "pygments_lexer": "ipython3",
   "version": "3.10.9"
  }
 },
 "nbformat": 4,
 "nbformat_minor": 5
}
