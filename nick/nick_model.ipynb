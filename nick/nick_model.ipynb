{
 "cells": [
  {
   "cell_type": "code",
   "execution_count": 1,
   "id": "6ef46231-78d2-4a2d-ab5e-bee0f575f966",
   "metadata": {},
   "outputs": [
    {
     "name": "stderr",
     "output_type": "stream",
     "text": [
      "[nltk_data] Downloading package wordnet to\n",
      "[nltk_data]     /Users/nickolaspedrimiranda/nltk_data...\n",
      "[nltk_data]   Package wordnet is already up-to-date!\n",
      "[nltk_data] Downloading package omw-1.4 to\n",
      "[nltk_data]     /Users/nickolaspedrimiranda/nltk_data...\n",
      "[nltk_data]   Package omw-1.4 is already up-to-date!\n"
     ]
    }
   ],
   "source": [
    "import pandas as pd\n",
    "import numpy as np\n",
    "\n",
    "from sklearn.feature_extraction.text import TfidfVectorizer\n",
    "from sklearn.model_selection import train_test_split\n",
    "from sklearn.linear_model import LogisticRegression\n",
    "from sklearn.metrics import classification_report\n",
    "\n",
    "import prepare as prp"
   ]
  },
  {
   "cell_type": "code",
   "execution_count": 2,
   "id": "9573b65b-38dc-4592-8e50-fbfa087be714",
   "metadata": {},
   "outputs": [
    {
     "data": {
      "text/html": [
       "<div>\n",
       "<style scoped>\n",
       "    .dataframe tbody tr th:only-of-type {\n",
       "        vertical-align: middle;\n",
       "    }\n",
       "\n",
       "    .dataframe tbody tr th {\n",
       "        vertical-align: top;\n",
       "    }\n",
       "\n",
       "    .dataframe thead th {\n",
       "        text-align: right;\n",
       "    }\n",
       "</style>\n",
       "<table border=\"1\" class=\"dataframe\">\n",
       "  <thead>\n",
       "    <tr style=\"text-align: right;\">\n",
       "      <th></th>\n",
       "      <th>repo</th>\n",
       "      <th>language</th>\n",
       "      <th>readme_contents</th>\n",
       "      <th>clean</th>\n",
       "      <th>stemmed</th>\n",
       "      <th>lemmatized</th>\n",
       "    </tr>\n",
       "  </thead>\n",
       "  <tbody>\n",
       "    <tr>\n",
       "      <th>0</th>\n",
       "      <td>ScottfreeLLC/AlphaPy</td>\n",
       "      <td>Python</td>\n",
       "      <td>AlphaPy\\n=======\\n\\n|badge_pypi| |badge_downlo...</td>\n",
       "      <td>alphapy badgepypi badgedownloads badgedocs bad...</td>\n",
       "      <td>alphapi badgepypi badgedownload badgedoc badge...</td>\n",
       "      <td>alphapy badgepypi badgedownloads badgedocs bad...</td>\n",
       "    </tr>\n",
       "    <tr>\n",
       "      <th>1</th>\n",
       "      <td>jalapic/engsoccerdata</td>\n",
       "      <td>R</td>\n",
       "      <td>Latest GitHub version: 11/4/2022,  v0.1.7\\n\\nN...</td>\n",
       "      <td>latest github version 1142022 v017 nov 2022 up...</td>\n",
       "      <td>latest github version 1142022 v017 nov 2022 up...</td>\n",
       "      <td>latest github version 1142022 v017 nov 2022 up...</td>\n",
       "    </tr>\n",
       "    <tr>\n",
       "      <th>2</th>\n",
       "      <td>bttmly/nba</td>\n",
       "      <td>JavaScript</td>\n",
       "      <td># nba\\n*Node.js client for nba.com API endpoin...</td>\n",
       "      <td>nba nodejs client nbacom api endpoints npm ins...</td>\n",
       "      <td>nba nodej client nbacom api endpoint npm insta...</td>\n",
       "      <td>nba nodejs client nbacom api endpoint npm inst...</td>\n",
       "    </tr>\n",
       "    <tr>\n",
       "      <th>3</th>\n",
       "      <td>kyleskom/NBA-Machine-Learning-Sports-Betting</td>\n",
       "      <td>Python</td>\n",
       "      <td># NBA Sports Betting Using Machine Learning 🏀\\...</td>\n",
       "      <td>nba sports betting using machine learning img ...</td>\n",
       "      <td>nba sport bet use machin learn img srchttpsgit...</td>\n",
       "      <td>nba sport betting using machine learning img s...</td>\n",
       "    </tr>\n",
       "    <tr>\n",
       "      <th>4</th>\n",
       "      <td>linouk23/NBA-Player-Movements</td>\n",
       "      <td>Python</td>\n",
       "      <td># NBA Player Movements\\n\\nThis is a script for...</td>\n",
       "      <td>nba player movements script visualization nba ...</td>\n",
       "      <td>nba player movement script visual nba game raw...</td>\n",
       "      <td>nba player movement script visualization nba g...</td>\n",
       "    </tr>\n",
       "  </tbody>\n",
       "</table>\n",
       "</div>"
      ],
      "text/plain": [
       "                                           repo    language  \\\n",
       "0                          ScottfreeLLC/AlphaPy      Python   \n",
       "1                         jalapic/engsoccerdata           R   \n",
       "2                                    bttmly/nba  JavaScript   \n",
       "3  kyleskom/NBA-Machine-Learning-Sports-Betting      Python   \n",
       "4                 linouk23/NBA-Player-Movements      Python   \n",
       "\n",
       "                                     readme_contents  \\\n",
       "0  AlphaPy\\n=======\\n\\n|badge_pypi| |badge_downlo...   \n",
       "1  Latest GitHub version: 11/4/2022,  v0.1.7\\n\\nN...   \n",
       "2  # nba\\n*Node.js client for nba.com API endpoin...   \n",
       "3  # NBA Sports Betting Using Machine Learning 🏀\\...   \n",
       "4  # NBA Player Movements\\n\\nThis is a script for...   \n",
       "\n",
       "                                               clean  \\\n",
       "0  alphapy badgepypi badgedownloads badgedocs bad...   \n",
       "1  latest github version 1142022 v017 nov 2022 up...   \n",
       "2  nba nodejs client nbacom api endpoints npm ins...   \n",
       "3  nba sports betting using machine learning img ...   \n",
       "4  nba player movements script visualization nba ...   \n",
       "\n",
       "                                             stemmed  \\\n",
       "0  alphapi badgepypi badgedownload badgedoc badge...   \n",
       "1  latest github version 1142022 v017 nov 2022 up...   \n",
       "2  nba nodej client nbacom api endpoint npm insta...   \n",
       "3  nba sport bet use machin learn img srchttpsgit...   \n",
       "4  nba player movement script visual nba game raw...   \n",
       "\n",
       "                                          lemmatized  \n",
       "0  alphapy badgepypi badgedownloads badgedocs bad...  \n",
       "1  latest github version 1142022 v017 nov 2022 up...  \n",
       "2  nba nodejs client nbacom api endpoint npm inst...  \n",
       "3  nba sport betting using machine learning img s...  \n",
       "4  nba player movement script visualization nba g...  "
      ]
     },
     "execution_count": 2,
     "metadata": {},
     "output_type": "execute_result"
    }
   ],
   "source": [
    "repo = pd.read_csv('all_repos.csv')\n",
    "repo = prp.cleanse(repo, 'readme_contents')\n",
    "repo.head()"
   ]
  },
  {
   "cell_type": "code",
   "execution_count": 3,
   "id": "961fd54e-ec90-4186-81f7-0d6b2b5e9a16",
   "metadata": {},
   "outputs": [],
   "source": [
    "def replace_values_not_in_list(series, mylist, false_value):\n",
    "    new_values = []\n",
    "    for value in series:\n",
    "        if value in mylist:\n",
    "            new_values.append(value)\n",
    "        else:\n",
    "            new_values.append(false_value)\n",
    "    return new_values"
   ]
  },
  {
   "cell_type": "code",
   "execution_count": 4,
   "id": "e097281e-e086-4dcf-82a5-8e9634796da1",
   "metadata": {},
   "outputs": [],
   "source": [
    "def top_languages(n):\n",
    "    top_languages = list(repo.language.value_counts().index[:n])\n",
    "    filtered_languages = replace_values_not_in_list(repo.language, top_languages, 'Other')\n",
    "    return filtered_languages"
   ]
  },
  {
   "cell_type": "code",
   "execution_count": 5,
   "id": "7fe5f3ed-8368-4670-9af1-1f2d8accc25e",
   "metadata": {},
   "outputs": [],
   "source": [
    "repo.language = top_languages(4)"
   ]
  },
  {
   "cell_type": "code",
   "execution_count": 6,
   "id": "0112faec-4d37-4237-bcea-40f858e87d38",
   "metadata": {},
   "outputs": [
    {
     "data": {
      "text/plain": [
       "Other         341\n",
       "Python        232\n",
       "JavaScript    141\n",
       "R              43\n",
       "TypeScript     40\n",
       "Name: language, dtype: int64"
      ]
     },
     "execution_count": 6,
     "metadata": {},
     "output_type": "execute_result"
    }
   ],
   "source": [
    "repo.language.value_counts()"
   ]
  },
  {
   "cell_type": "code",
   "execution_count": 7,
   "id": "0a6ac679-f76f-4a5b-bf10-335625fc8795",
   "metadata": {},
   "outputs": [
    {
     "name": "stdout",
     "output_type": "stream",
     "text": [
      "(557, 6) (120, 6) (120, 6)\n"
     ]
    }
   ],
   "source": [
    "train, val, test = prp.train_val_test(repo, 'language', stratify=True)"
   ]
  },
  {
   "cell_type": "code",
   "execution_count": 8,
   "id": "e474f80c-d1f9-41f2-873a-d30dca39aa60",
   "metadata": {},
   "outputs": [],
   "source": [
    "X_train, y_train = prp.split_xy(train, 'language')\n",
    "X_val, y_val = prp.split_xy(val, 'language')\n",
    "X_test, y_test = prp.split_xy(test, 'language')"
   ]
  },
  {
   "cell_type": "code",
   "execution_count": 9,
   "id": "c44c5303-ebc5-49b9-8cf3-b74fe63d66b7",
   "metadata": {},
   "outputs": [],
   "source": [
    "tfidf = TfidfVectorizer()\n",
    "\n",
    "X_train_tfidf = tfidf.fit_transform(X_train.clean)\n",
    "X_val_tfidf = tfidf.transform(X_val.clean)\n",
    "X_test_tfidf = tfidf.transform(X_test.clean)"
   ]
  },
  {
   "cell_type": "code",
   "execution_count": 10,
   "id": "b8e9c2c0-5918-4cba-88cc-65be7cb51aae",
   "metadata": {},
   "outputs": [
    {
     "data": {
      "text/html": [
       "<style>#sk-container-id-1 {color: black;background-color: white;}#sk-container-id-1 pre{padding: 0;}#sk-container-id-1 div.sk-toggleable {background-color: white;}#sk-container-id-1 label.sk-toggleable__label {cursor: pointer;display: block;width: 100%;margin-bottom: 0;padding: 0.3em;box-sizing: border-box;text-align: center;}#sk-container-id-1 label.sk-toggleable__label-arrow:before {content: \"▸\";float: left;margin-right: 0.25em;color: #696969;}#sk-container-id-1 label.sk-toggleable__label-arrow:hover:before {color: black;}#sk-container-id-1 div.sk-estimator:hover label.sk-toggleable__label-arrow:before {color: black;}#sk-container-id-1 div.sk-toggleable__content {max-height: 0;max-width: 0;overflow: hidden;text-align: left;background-color: #f0f8ff;}#sk-container-id-1 div.sk-toggleable__content pre {margin: 0.2em;color: black;border-radius: 0.25em;background-color: #f0f8ff;}#sk-container-id-1 input.sk-toggleable__control:checked~div.sk-toggleable__content {max-height: 200px;max-width: 100%;overflow: auto;}#sk-container-id-1 input.sk-toggleable__control:checked~label.sk-toggleable__label-arrow:before {content: \"▾\";}#sk-container-id-1 div.sk-estimator input.sk-toggleable__control:checked~label.sk-toggleable__label {background-color: #d4ebff;}#sk-container-id-1 div.sk-label input.sk-toggleable__control:checked~label.sk-toggleable__label {background-color: #d4ebff;}#sk-container-id-1 input.sk-hidden--visually {border: 0;clip: rect(1px 1px 1px 1px);clip: rect(1px, 1px, 1px, 1px);height: 1px;margin: -1px;overflow: hidden;padding: 0;position: absolute;width: 1px;}#sk-container-id-1 div.sk-estimator {font-family: monospace;background-color: #f0f8ff;border: 1px dotted black;border-radius: 0.25em;box-sizing: border-box;margin-bottom: 0.5em;}#sk-container-id-1 div.sk-estimator:hover {background-color: #d4ebff;}#sk-container-id-1 div.sk-parallel-item::after {content: \"\";width: 100%;border-bottom: 1px solid gray;flex-grow: 1;}#sk-container-id-1 div.sk-label:hover label.sk-toggleable__label {background-color: #d4ebff;}#sk-container-id-1 div.sk-serial::before {content: \"\";position: absolute;border-left: 1px solid gray;box-sizing: border-box;top: 0;bottom: 0;left: 50%;z-index: 0;}#sk-container-id-1 div.sk-serial {display: flex;flex-direction: column;align-items: center;background-color: white;padding-right: 0.2em;padding-left: 0.2em;position: relative;}#sk-container-id-1 div.sk-item {position: relative;z-index: 1;}#sk-container-id-1 div.sk-parallel {display: flex;align-items: stretch;justify-content: center;background-color: white;position: relative;}#sk-container-id-1 div.sk-item::before, #sk-container-id-1 div.sk-parallel-item::before {content: \"\";position: absolute;border-left: 1px solid gray;box-sizing: border-box;top: 0;bottom: 0;left: 50%;z-index: -1;}#sk-container-id-1 div.sk-parallel-item {display: flex;flex-direction: column;z-index: 1;position: relative;background-color: white;}#sk-container-id-1 div.sk-parallel-item:first-child::after {align-self: flex-end;width: 50%;}#sk-container-id-1 div.sk-parallel-item:last-child::after {align-self: flex-start;width: 50%;}#sk-container-id-1 div.sk-parallel-item:only-child::after {width: 0;}#sk-container-id-1 div.sk-dashed-wrapped {border: 1px dashed gray;margin: 0 0.4em 0.5em 0.4em;box-sizing: border-box;padding-bottom: 0.4em;background-color: white;}#sk-container-id-1 div.sk-label label {font-family: monospace;font-weight: bold;display: inline-block;line-height: 1.2em;}#sk-container-id-1 div.sk-label-container {text-align: center;}#sk-container-id-1 div.sk-container {/* jupyter's `normalize.less` sets `[hidden] { display: none; }` but bootstrap.min.css set `[hidden] { display: none !important; }` so we also need the `!important` here to be able to override the default hidden behavior on the sphinx rendered scikit-learn.org. See: https://github.com/scikit-learn/scikit-learn/issues/21755 */display: inline-block !important;position: relative;}#sk-container-id-1 div.sk-text-repr-fallback {display: none;}</style><div id=\"sk-container-id-1\" class=\"sk-top-container\"><div class=\"sk-text-repr-fallback\"><pre>LogisticRegression(class_weight=&#x27;balanced&#x27;)</pre><b>In a Jupyter environment, please rerun this cell to show the HTML representation or trust the notebook. <br />On GitHub, the HTML representation is unable to render, please try loading this page with nbviewer.org.</b></div><div class=\"sk-container\" hidden><div class=\"sk-item\"><div class=\"sk-estimator sk-toggleable\"><input class=\"sk-toggleable__control sk-hidden--visually\" id=\"sk-estimator-id-1\" type=\"checkbox\" checked><label for=\"sk-estimator-id-1\" class=\"sk-toggleable__label sk-toggleable__label-arrow\">LogisticRegression</label><div class=\"sk-toggleable__content\"><pre>LogisticRegression(class_weight=&#x27;balanced&#x27;)</pre></div></div></div></div></div>"
      ],
      "text/plain": [
       "LogisticRegression(class_weight='balanced')"
      ]
     },
     "execution_count": 10,
     "metadata": {},
     "output_type": "execute_result"
    }
   ],
   "source": [
    "lm = LogisticRegression(class_weight='balanced')\n",
    "\n",
    "lm.fit(X_train_tfidf, y_train)"
   ]
  },
  {
   "cell_type": "code",
   "execution_count": 11,
   "id": "e776d081-be90-4f8f-8948-c9495ee386b1",
   "metadata": {},
   "outputs": [],
   "source": [
    "y_train_res = pd.DataFrame({'actual':y_train,\n",
    "                            'preds':lm.predict(X_train_tfidf)})\n",
    "\n",
    "\n",
    "y_val_res = pd.DataFrame({'actual':y_val,\n",
    "                          'preds':lm.predict(X_val_tfidf)})"
   ]
  },
  {
   "cell_type": "code",
   "execution_count": 12,
   "id": "8595db93-84e2-4384-bb88-f162a0809d9d",
   "metadata": {},
   "outputs": [
    {
     "data": {
      "text/html": [
       "<div>\n",
       "<style scoped>\n",
       "    .dataframe tbody tr th:only-of-type {\n",
       "        vertical-align: middle;\n",
       "    }\n",
       "\n",
       "    .dataframe tbody tr th {\n",
       "        vertical-align: top;\n",
       "    }\n",
       "\n",
       "    .dataframe thead th {\n",
       "        text-align: right;\n",
       "    }\n",
       "</style>\n",
       "<table border=\"1\" class=\"dataframe\">\n",
       "  <thead>\n",
       "    <tr style=\"text-align: right;\">\n",
       "      <th></th>\n",
       "      <th>actual</th>\n",
       "      <th>preds</th>\n",
       "    </tr>\n",
       "  </thead>\n",
       "  <tbody>\n",
       "    <tr>\n",
       "      <th>536</th>\n",
       "      <td>Other</td>\n",
       "      <td>Other</td>\n",
       "    </tr>\n",
       "    <tr>\n",
       "      <th>193</th>\n",
       "      <td>R</td>\n",
       "      <td>R</td>\n",
       "    </tr>\n",
       "    <tr>\n",
       "      <th>148</th>\n",
       "      <td>Python</td>\n",
       "      <td>Python</td>\n",
       "    </tr>\n",
       "    <tr>\n",
       "      <th>150</th>\n",
       "      <td>Python</td>\n",
       "      <td>Python</td>\n",
       "    </tr>\n",
       "    <tr>\n",
       "      <th>239</th>\n",
       "      <td>JavaScript</td>\n",
       "      <td>JavaScript</td>\n",
       "    </tr>\n",
       "  </tbody>\n",
       "</table>\n",
       "</div>"
      ],
      "text/plain": [
       "         actual       preds\n",
       "536       Other       Other\n",
       "193           R           R\n",
       "148      Python      Python\n",
       "150      Python      Python\n",
       "239  JavaScript  JavaScript"
      ]
     },
     "execution_count": 12,
     "metadata": {},
     "output_type": "execute_result"
    }
   ],
   "source": [
    "y_train_res.head()"
   ]
  },
  {
   "cell_type": "code",
   "execution_count": 13,
   "id": "0413cdd5-09f4-4977-a7a7-385146bbd871",
   "metadata": {},
   "outputs": [
    {
     "data": {
      "text/html": [
       "<div>\n",
       "<style scoped>\n",
       "    .dataframe tbody tr th:only-of-type {\n",
       "        vertical-align: middle;\n",
       "    }\n",
       "\n",
       "    .dataframe tbody tr th {\n",
       "        vertical-align: top;\n",
       "    }\n",
       "\n",
       "    .dataframe thead th {\n",
       "        text-align: right;\n",
       "    }\n",
       "</style>\n",
       "<table border=\"1\" class=\"dataframe\">\n",
       "  <thead>\n",
       "    <tr style=\"text-align: right;\">\n",
       "      <th></th>\n",
       "      <th>actual</th>\n",
       "      <th>preds</th>\n",
       "    </tr>\n",
       "  </thead>\n",
       "  <tbody>\n",
       "    <tr>\n",
       "      <th>614</th>\n",
       "      <td>Other</td>\n",
       "      <td>Other</td>\n",
       "    </tr>\n",
       "    <tr>\n",
       "      <th>204</th>\n",
       "      <td>Other</td>\n",
       "      <td>Other</td>\n",
       "    </tr>\n",
       "    <tr>\n",
       "      <th>67</th>\n",
       "      <td>Python</td>\n",
       "      <td>Python</td>\n",
       "    </tr>\n",
       "    <tr>\n",
       "      <th>341</th>\n",
       "      <td>Other</td>\n",
       "      <td>Other</td>\n",
       "    </tr>\n",
       "    <tr>\n",
       "      <th>256</th>\n",
       "      <td>Python</td>\n",
       "      <td>Other</td>\n",
       "    </tr>\n",
       "  </tbody>\n",
       "</table>\n",
       "</div>"
      ],
      "text/plain": [
       "     actual   preds\n",
       "614   Other   Other\n",
       "204   Other   Other\n",
       "67   Python  Python\n",
       "341   Other   Other\n",
       "256  Python   Other"
      ]
     },
     "execution_count": 13,
     "metadata": {},
     "output_type": "execute_result"
    }
   ],
   "source": [
    "y_val_res.head()"
   ]
  },
  {
   "cell_type": "code",
   "execution_count": 14,
   "id": "c247120a-3d2d-4121-9914-9f36ec7e707c",
   "metadata": {},
   "outputs": [],
   "source": [
    "baseline = pd.DataFrame(y_train)"
   ]
  },
  {
   "cell_type": "code",
   "execution_count": 15,
   "id": "06175498-1ac3-4737-a46a-983d67ee58ad",
   "metadata": {},
   "outputs": [],
   "source": [
    "baseline['baseline'] = 'Other'"
   ]
  },
  {
   "cell_type": "code",
   "execution_count": 16,
   "id": "a9bb04be-7a56-4fd0-bfb0-62546d83cc33",
   "metadata": {},
   "outputs": [
    {
     "data": {
      "text/html": [
       "<div>\n",
       "<style scoped>\n",
       "    .dataframe tbody tr th:only-of-type {\n",
       "        vertical-align: middle;\n",
       "    }\n",
       "\n",
       "    .dataframe tbody tr th {\n",
       "        vertical-align: top;\n",
       "    }\n",
       "\n",
       "    .dataframe thead th {\n",
       "        text-align: right;\n",
       "    }\n",
       "</style>\n",
       "<table border=\"1\" class=\"dataframe\">\n",
       "  <thead>\n",
       "    <tr style=\"text-align: right;\">\n",
       "      <th></th>\n",
       "      <th>language</th>\n",
       "      <th>baseline</th>\n",
       "    </tr>\n",
       "  </thead>\n",
       "  <tbody>\n",
       "    <tr>\n",
       "      <th>536</th>\n",
       "      <td>Other</td>\n",
       "      <td>Other</td>\n",
       "    </tr>\n",
       "    <tr>\n",
       "      <th>193</th>\n",
       "      <td>R</td>\n",
       "      <td>Other</td>\n",
       "    </tr>\n",
       "    <tr>\n",
       "      <th>148</th>\n",
       "      <td>Python</td>\n",
       "      <td>Other</td>\n",
       "    </tr>\n",
       "    <tr>\n",
       "      <th>150</th>\n",
       "      <td>Python</td>\n",
       "      <td>Other</td>\n",
       "    </tr>\n",
       "    <tr>\n",
       "      <th>239</th>\n",
       "      <td>JavaScript</td>\n",
       "      <td>Other</td>\n",
       "    </tr>\n",
       "    <tr>\n",
       "      <th>...</th>\n",
       "      <td>...</td>\n",
       "      <td>...</td>\n",
       "    </tr>\n",
       "    <tr>\n",
       "      <th>763</th>\n",
       "      <td>Other</td>\n",
       "      <td>Other</td>\n",
       "    </tr>\n",
       "    <tr>\n",
       "      <th>753</th>\n",
       "      <td>Other</td>\n",
       "      <td>Other</td>\n",
       "    </tr>\n",
       "    <tr>\n",
       "      <th>415</th>\n",
       "      <td>Python</td>\n",
       "      <td>Other</td>\n",
       "    </tr>\n",
       "    <tr>\n",
       "      <th>230</th>\n",
       "      <td>Python</td>\n",
       "      <td>Other</td>\n",
       "    </tr>\n",
       "    <tr>\n",
       "      <th>272</th>\n",
       "      <td>Other</td>\n",
       "      <td>Other</td>\n",
       "    </tr>\n",
       "  </tbody>\n",
       "</table>\n",
       "<p>557 rows × 2 columns</p>\n",
       "</div>"
      ],
      "text/plain": [
       "       language baseline\n",
       "536       Other    Other\n",
       "193           R    Other\n",
       "148      Python    Other\n",
       "150      Python    Other\n",
       "239  JavaScript    Other\n",
       "..          ...      ...\n",
       "763       Other    Other\n",
       "753       Other    Other\n",
       "415      Python    Other\n",
       "230      Python    Other\n",
       "272       Other    Other\n",
       "\n",
       "[557 rows x 2 columns]"
      ]
     },
     "execution_count": 16,
     "metadata": {},
     "output_type": "execute_result"
    }
   ],
   "source": [
    "baseline"
   ]
  },
  {
   "cell_type": "code",
   "execution_count": 17,
   "id": "3b4d77b5-a683-4233-8bf7-679c296cfe54",
   "metadata": {},
   "outputs": [
    {
     "data": {
      "text/plain": [
       "Other         238\n",
       "Python        162\n",
       "JavaScript     99\n",
       "R              30\n",
       "TypeScript     28\n",
       "Name: language, dtype: int64"
      ]
     },
     "execution_count": 17,
     "metadata": {},
     "output_type": "execute_result"
    }
   ],
   "source": [
    "baseline.language.value_counts()"
   ]
  },
  {
   "cell_type": "code",
   "execution_count": 18,
   "id": "cdca7ed9-2fe1-47be-907a-80b17c3fcf7e",
   "metadata": {},
   "outputs": [
    {
     "name": "stdout",
     "output_type": "stream",
     "text": [
      "baseline 0.43\n"
     ]
    }
   ],
   "source": [
    "print(f'baseline {round((baseline.language == baseline.baseline).sum()/(len(baseline)),2)}')"
   ]
  },
  {
   "cell_type": "code",
   "execution_count": 28,
   "id": "0ed11204-c8a9-4ea6-a473-cd0240adf486",
   "metadata": {},
   "outputs": [
    {
     "name": "stdout",
     "output_type": "stream",
     "text": [
      "train 0.97\n",
      "val   0.66\n",
      "\n"
     ]
    }
   ],
   "source": [
    "repo = pd.read_csv('all_repos.csv')\n",
    "repo = prp.cleanse(repo, 'readme_contents')\n",
    "\n",
    "top_languages = list(repo.language.value_counts().index[:4])\n",
    "filtered_languages = replace_values_not_in_list(repo.language, top_languages, 'Other')\n",
    "repo.language = filtered_languages\n",
    "\n",
    "train, val, test = prp.train_val_test(repo, 'language', stratify=True, print_shape=False)\n",
    "\n",
    "X_train, y_train = prp.split_xy(train, 'language')\n",
    "X_val, y_val = prp.split_xy(val, 'language')\n",
    "X_test, y_test = prp.split_xy(test, 'language')\n",
    "\n",
    "tfidf = TfidfVectorizer()\n",
    "\n",
    "X_train_tfidf = tfidf.fit_transform(X_train.clean)\n",
    "X_val_tfidf = tfidf.transform(X_val.clean)\n",
    "X_test_tfidf = tfidf.transform(X_test.clean)\n",
    "\n",
    "lm = LogisticRegression(class_weight='balanced')\n",
    "\n",
    "lm.fit(X_train_tfidf, y_train)\n",
    "\n",
    "y_train_res = pd.DataFrame({'actual':y_train,\n",
    "                        'preds':lm.predict(X_train_tfidf)})\n",
    "\n",
    "\n",
    "y_val_res = pd.DataFrame({'actual':y_val,\n",
    "                          'preds':lm.predict(X_val_tfidf)})\n",
    "\n",
    "print(f'train {round((y_train_res.actual == y_train_res.preds).sum()/(len(y_train_res)),2)}')\n",
    "print(f'val   {round((y_val_res.actual == y_val_res.preds).sum()/(len(y_val_res)),2)}')\n",
    "print()"
   ]
  },
  {
   "cell_type": "markdown",
   "id": "7f0a26b3-bd12-449a-a771-79b7e62be19d",
   "metadata": {},
   "source": [
    "# Second try"
   ]
  },
  {
   "cell_type": "code",
   "execution_count": 62,
   "id": "251f2725-f5d1-40d7-b02b-6bf682acbce0",
   "metadata": {},
   "outputs": [],
   "source": [
    "repo = pd.read_csv('all_repos.csv')\n",
    "repo = prp.cleanse(repo, 'readme_contents')\n",
    "repo.language = prp.top_languages(repo, 4)\n",
    "\n",
    "all_words = prp.word_counts(repo, 'language', 'clean')"
   ]
  },
  {
   "cell_type": "code",
   "execution_count": 66,
   "id": "5fe97470-8fb3-4f88-ba54-4dc6ca72a15e",
   "metadata": {},
   "outputs": [
    {
     "name": "stdout",
     "output_type": "stream",
     "text": [
      "train 0.96         0 words\n",
      "val   0.66         0 words\n",
      "\n",
      "train 0.95         5 words\n",
      "val   0.64         5 words\n",
      "\n",
      "train 0.93         10 words\n",
      "val   0.66         10 words\n",
      "\n",
      "train 0.91         15 words\n",
      "val   0.64         15 words\n",
      "\n",
      "train 0.9         20 words\n",
      "val   0.63         20 words\n",
      "\n",
      "train 0.89         25 words\n",
      "val   0.65         25 words\n",
      "\n",
      "train 0.88         30 words\n",
      "val   0.66         30 words\n",
      "\n",
      "train 0.88         35 words\n",
      "val   0.67         35 words\n",
      "\n",
      "train 0.87         40 words\n",
      "val   0.65         40 words\n",
      "\n",
      "train 0.86         45 words\n",
      "val   0.64         45 words\n",
      "\n",
      "train 0.86         50 words\n",
      "val   0.62         50 words\n",
      "\n",
      "train 0.85         55 words\n",
      "val   0.62         55 words\n",
      "\n",
      "train 0.85         60 words\n",
      "val   0.61         60 words\n",
      "\n",
      "train 0.85         65 words\n",
      "val   0.6         65 words\n",
      "\n",
      "train 0.85         70 words\n",
      "val   0.63         70 words\n",
      "\n",
      "train 0.83         75 words\n",
      "val   0.61         75 words\n",
      "\n",
      "train 0.82         80 words\n",
      "val   0.58         80 words\n",
      "\n",
      "train 0.82         85 words\n",
      "val   0.56         85 words\n",
      "\n",
      "train 0.8         90 words\n",
      "val   0.54         90 words\n",
      "\n",
      "train 0.8         95 words\n",
      "val   0.52         95 words\n",
      "\n",
      "train 0.8         100 words\n",
      "val   0.5         100 words\n",
      "\n"
     ]
    }
   ],
   "source": [
    "for n in range(0, 101, 5):\n",
    "    word_filter = list(all_words[all_words['all'] < n].index)\n",
    "\n",
    "    repo = pd.read_csv('all_repos.csv')\n",
    "    repo.language = prp.top_languages(repo, 4)\n",
    "    repo = prp.cleanse(repo, 'readme_contents', extra_words=word_filter)\n",
    "\n",
    "    train, val, test = prp.train_val_test(repo, 'language', stratify=True, print_shape=False)\n",
    "\n",
    "    X_train, y_train = prp.split_xy(train, 'language')\n",
    "    X_val, y_val = prp.split_xy(val, 'language')\n",
    "    X_test, y_test = prp.split_xy(test, 'language')\n",
    "\n",
    "    tfidf = TfidfVectorizer()\n",
    "\n",
    "    X_train_tfidf = tfidf.fit_transform(X_train.lemmatized)\n",
    "    X_val_tfidf = tfidf.transform(X_val.lemmatized)\n",
    "    X_test_tfidf = tfidf.transform(X_test.lemmatized)\n",
    "\n",
    "    lm = LogisticRegression(class_weight='balanced')\n",
    "\n",
    "    lm.fit(X_train_tfidf, y_train)\n",
    "\n",
    "    y_train_res = pd.DataFrame({'actual':y_train,\n",
    "                            'preds':lm.predict(X_train_tfidf)})\n",
    "\n",
    "\n",
    "    y_val_res = pd.DataFrame({'actual':y_val,\n",
    "                              'preds':lm.predict(X_val_tfidf)})\n",
    "\n",
    "    print(f'train {round((y_train_res.actual == y_train_res.preds).sum()/(len(y_train_res)),2)}         {n} words')\n",
    "    print(f'val   {round((y_val_res.actual == y_val_res.preds).sum()/(len(y_val_res)),2)}         {n} words')\n",
    "    print()"
   ]
  },
  {
   "cell_type": "code",
   "execution_count": null,
   "id": "7982cdf6-06d6-4c9c-a9ca-f2c4903f7b6b",
   "metadata": {},
   "outputs": [],
   "source": []
  }
 ],
 "metadata": {
  "kernelspec": {
   "display_name": "Python 3 (ipykernel)",
   "language": "python",
   "name": "python3"
  },
  "language_info": {
   "codemirror_mode": {
    "name": "ipython",
    "version": 3
   },
   "file_extension": ".py",
   "mimetype": "text/x-python",
   "name": "python",
   "nbconvert_exporter": "python",
   "pygments_lexer": "ipython3",
   "version": "3.10.9"
  }
 },
 "nbformat": 4,
 "nbformat_minor": 5
}
