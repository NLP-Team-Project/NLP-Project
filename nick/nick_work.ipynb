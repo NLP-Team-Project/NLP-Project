{
 "cells": [
  {
   "cell_type": "code",
   "execution_count": 9,
   "id": "625fe471-6aa9-4eed-8df6-9e0c9712cd81",
   "metadata": {},
   "outputs": [],
   "source": [
    "import pandas as pd\n",
    "import prepare as prep\n",
    "\n",
    "import requests\n",
    "import re\n",
    "\n",
    "from bs4 import BeautifulSoup"
   ]
  },
  {
   "cell_type": "code",
   "execution_count": 10,
   "id": "1ecc324d-a1ff-44b0-a95e-ced8c5202ee6",
   "metadata": {},
   "outputs": [
    {
     "data": {
      "text/plain": [
       "['https://github.com/search?q=sports&type=repositories&s=stars&o=desc&p=1',\n",
       " 'https://github.com/search?q=sports&type=repositories&s=stars&o=desc&p=2',\n",
       " 'https://github.com/search?q=sports&type=repositories&s=stars&o=desc&p=3',\n",
       " 'https://github.com/search?q=sports&type=repositories&s=stars&o=desc&p=4',\n",
       " 'https://github.com/search?q=sports&type=repositories&s=stars&o=desc&p=5']"
      ]
     },
     "execution_count": 10,
     "metadata": {},
     "output_type": "execute_result"
    }
   ],
   "source": [
    "github_pages = []\n",
    "\n",
    "for n in range(1,101):\n",
    "    github_pages.append(f'https://github.com/search?q=sports&type=repositories&s=stars&o=desc&p={n}')\n",
    "\n",
    "github_pages[:5]"
   ]
  },
  {
   "cell_type": "code",
   "execution_count": 14,
   "id": "3450e996-de9d-442a-9dcc-79e201c49957",
   "metadata": {},
   "outputs": [],
   "source": [
    "def get_page_content(url):\n",
    "    response = requests.get(url)\n",
    "    soup = BeautifulSoup(response.content, 'html.parser')\n",
    "    return soup"
   ]
  },
  {
   "cell_type": "code",
   "execution_count": 31,
   "id": "c6f4a17d-b8de-48b2-b73f-54f3cb2e3cd0",
   "metadata": {},
   "outputs": [
    {
     "data": {
      "text/plain": [
       "b'{\"payload\":{\"header_redesign_enabled\":false,\"results\":[{\"id\":\"51673050\",\"archived\":false,\"color\":\"#3572A5\",\"followers\":971,\"has_funding_file\":true,\"hl_name\":\"ScottfreeLLC/AlphaPy\",\"hl_trunc_description\":\"Automated Machine Learning [AutoML] with Python, scikit-learn, Keras, XGBoost, LightGBM, and CatBoost\",\"language\":\"Python\",\"mirror\":false,\"owned_by_organization\":true,\"public\":true,\"repo\":{\"repository\":{\"id\":51673050,\"name\":\"AlphaPy\",\"owner_id\":26985901,\"owner_login\":\"ScottfreeLLC\",\"updated_at\":\"2023-08-31T02:18:51.167Z\",\"has_issues\":true}},\"sponsorable\":true,\"topics\":[\"python\",\"portfolio\",\"data-science\",\"machine-learning\",\"deep-learning\",\"trading\",\"scikit-learn\",\"keras\",\"sports\",\"regression\",\"pandas\",\"cryptocurrency\",\"iex\",\"classification\",\"trading-platform\",\"trading-strategies\",\"stocks\",\"predictive-analytics\",\"time-series-analysis\",\"backtesting\"],\"type\":\"Public\",\"help_wanted_issues_count\":1,\"good_first_issue_issues_count\":0,\"starred_by_current_user\":false},{\"id\":\"22526233\",\"archived\":false,\"color\":\"#198CE7\",\"followers\":730,\"has_funding_file\":false,\"hl_name\":\"jalapic/engsoccerdata\",\"hl_trunc_description\":\"English and European soccer results 1871-2022\",\"language\":\"R\",\"mirror\":false,\"owned_by_organization\":false,\"public\":true,\"repo\":{\"repository\":{\"id\":22526233,\"name\":\"engsoccerdata\",\"owner_id\":7896861,\"owner_login\":\"jalapic\",\"updated_at\":\"2022-11-10T19:20:28.564Z\",\"has_issues\":true}},\"sponsorable\":false,\"topics\":[\"data-science\",\"r\",\"sports\",\"soccer\",\"data-visualization\",\"rstats\",\"sports-stats\",\"sport\"],\"type\":\"Public\",\"help_wanted_issues_count\":0,\"good_first_issue_issues_count\":0,\"starred_by_current_user\":false},{\"id\":\"24005775\",\"archived\":false,\"color\":\"#f1e05a\",\"followers\":685,\"has_funding_file\":false,\"hl_name\":\"bttmly/nba\",\"hl_trunc_description\":\"Node.js client for nba.com API endpoints\",\"language\":\"JavaScript\",\"mirror\":false,\"owned_by_organization\":false,\"public\":true,\"repo\":{\"repository\":{\"id\":24005775,\"name\":\"nba\",\"owner_id\":3442934,\"owner_login\":\"bttmly\",\"updated_at\":\"2023-07-11T23:21:07.949Z\",\"has_issues\":true}},\"sponsorable\":false,\"topics\":[\"nba\",\"sports\",\"http-client\",\"basketball\"],\"type\":\"Public\",\"help_wanted_issues_count\":0,\"good_first_issue_issues_count\":0,\"starred_by_current_user\":false},{\"id\":\"224907324\",\"archived\":false,\"color\":\"#3572A5\",\"followers\":679,\"has_funding_file\":false,\"hl_name\":\"kyleskom/NBA-Machine-Learning-<em>Sports</em>-Betting\",\"hl_trunc_description\":\"NBA <em>sports</em> betting using machine learning\",\"language\":\"Python\",\"mirror\":false,\"owned_by_organization\":false,\"public\":true,\"repo\":{\"repository\":{\"id\":224907324,\"name\":\"NBA-Machine-Learning-Sports-Betting\",\"owner_id\":15850656,\"owner_login\":\"kyleskom\",\"updated_at\":\"2023-10-07T15:05:38.560Z\",\"has_issues\":true}},\"sponsorable\":false,\"topics\":[\"python\",\"nba\",\"data-science\",\"machine-learning\",\"ai\",\"deep-learning\",\"neural-network\",\"tensorflow\",\"keras\",\"sports\",\"gambling\",\"nba-analytics\",\"sports-data\",\"nba-prediction\",\"sports-betting\",\"sports-analytics\"],\"type\":\"Public\",\"help_wanted_issues_count\":0,\"good_first_issue_issues_count\":0,\"starred_by_current_user\":false},{\"id\":\"64963939\",\"archived\":false,\"color\":\"#3572A5\",\"followers\":600,\"has_funding_file\":false,\"hl_name\":\"linouk23/NBA-Player-Movements\",\"hl_trunc_description\":\"\\xf0\\x9f\\x8f\\x80 Visualization of NBA games from raw SportVU data logs\",\"language\":\"Python\",\"mirror\":false,\"owned_by_organization\":false,\"public\":true,\"repo\":{\"repository\":{\"id\":64963939,\"name\":\"NBA-Player-Movements\",\"owner_id\":5459870,\"owner_login\":\"linouk23\",\"updated_at\":\"2023-10-01T13:07:25.944Z\",\"has_issues\":true}},\"sponsorable\":false,\"topics\":[\"visualization\",\"nba\",\"animation\",\"sports\",\"basketball\"],\"type\":\"Public\",\"help_wanted_issues_count\":0,\"good_first_issue_issues_count\":0,\"starred_by_current_user\":false},{\"id\":\"117403324\",\"archived\":false,\"color\":\"#DA5B0B\",\"followers\":569,\"has_funding_file\":false,\"hl_name\":\"tuangauss/DataScienceProjects\",\"hl_trunc_description\":\"The code repository for projects and tutorials in R and Python that covers a variety of topics in data visualization, statistics <em>sports</em> a\\xe2\\x80\\xa6\",\"language\":\"Jupyter Notebook\",\"mirror\":false,\"owned_by_organization\":false,\"public\":true,\"repo\":{\"repository\":{\"id\":117403324,\"name\":\"DataScienceProjects\",\"owner_id\":22004519,\"owner_login\":\"tuangauss\",\"updated_at\":\"2023-07-08T16:58:37.873Z\",\"has_issues\":true}},\"sponsorable\":false,\"topics\":[\"data-science\",\"statistics\",\"data-visualization\"],\"type\":\"Public\",\"help_wanted_issues_count\":0,\"good_first_issue_issues_count\":0,\"starred_by_current_user\":false},{\"id\":\"118538523\",\"archived\":false,\"color\":\"#3572A5\",\"followers\":543,\"has_funding_file\":false,\"hl_name\":\"MLB-LED-Scoreboard/mlb-led-scoreboard\",\"hl_trunc_description\":\"An LED scoreboard for Major League Baseball \\xe2\\x9a\\xbe\",\"language\":\"Python\",\"mirror\":false,\"owned_by_organization\":true,\"public\":true,\"repo\":{\"repository\":{\"id\":118538523,\"name\":\"mlb-led-scoreboard\",\"owner_id\":36866386,\"owner_login\":\"MLB-LED-Scoreboard\",\"updated_at\":\"2023-10-06T01:45:56.008Z\",\"has_issues\":true}},\"sponsorable\":false,\"topics\":[\"raspberry-pi\",\"adafruit\",\"sports\",\"baseball\",\"mlb\",\"rgb-led\"],\"type\":\"Public\",\"help_wanted_issues_count\":1,\"good_first_issue_issues_count\":4,\"starred_by_current_user\":false},{\"id\":\"45427744\",\"archived\":false,\"color\":\"#3572A5\",\"followers\":509,\"has_funding_file\":false,\"hl_name\":\"panzarino/mlbgame\",\"hl_trunc_description\":\"A Python API to retrieve and read MLB GameDay data\",\"language\":\"Python\",\"mirror\":false,\"owned_by_organization\":false,\"public\":true,\"repo\":{\"repository\":{\"id\":45427744,\"name\":\"mlbgame\",\"owner_id\":7033952,\"owner_login\":\"panzarino\",\"updated_at\":\"2022-01-30T05:08:19.705Z\",\"has_issues\":true}},\"sponsorable\":false,\"topics\":[\"sports\",\"baseball\",\"mlb\",\"sports-stats\",\"mlb-gameday\",\"mlb-scores\",\"baseball-statistics\",\"baseball-analytics\",\"mlb-api\"],\"type\":\"Public\",\"help_wanted_issues_count\":7,\"good_first_issue_issues_count\":0,\"starred_by_current_user\":false},{\"id\":\"170770806\",\"archived\":false,\"color\":null,\"followers\":456,\"has_funding_file\":false,\"hl_name\":\"matiasmascioto/awesome-soccer-analytics\",\"hl_trunc_description\":\"\\xe2\\x9a\\xbd\\xf0\\x9f\\x93\\x88 A curated list of awesome resources related to Soccer Analytics.\",\"language\":null,\"mirror\":false,\"owned_by_organization\":false,\"public\":true,\"repo\":{\"repository\":{\"id\":170770806,\"name\":\"awesome-soccer-analytics\",\"owner_id\":5489787,\"owner_login\":\"matiasmascioto\",\"updated_at\":\"2020-11-17T15:36:48.769Z\",\"has_issues\":true}},\"sponsorable\":false,\"topics\":[\"awesome\",\"football\",\"analytics\",\"sports\",\"soccer\",\"sports-analytics\"],\"type\":\"Public\",\"help_wanted_issues_count\":0,\"good_first_issue_issues_count\":0,\"starred_by_current_user\":false},{\"id\":\"132654055\",\"archived\":false,\"color\":\"#3572A5\",\"followers\":442,\"has_funding_file\":false,\"hl_name\":\"roclark/<em>sportsipy</em>\",\"hl_trunc_description\":\"A free <em>sports</em> API written for python\",\"language\":\"Python\",\"mirror\":false,\"owned_by_organization\":false,\"public\":true,\"repo\":{\"repository\":{\"id\":132654055,\"name\":\"sportsipy\",\"owner_id\":12703406,\"owner_login\":\"roclark\",\"updated_at\":\"2023-10-18T01:34:53.308Z\",\"has_issues\":true}},\"sponsorable\":true,\"topics\":[\"api\",\"nba\",\"machine-learning\",\"statistics\",\"reference\",\"nfl\",\"sports\",\"artificial-intelligence\",\"teams\",\"stats\",\"ncaa\",\"athletes\",\"mlb\",\"nhl\",\"sports-stats\",\"sports-data\",\"sports-reference\"],\"type\":\"Public\",\"help_wanted_issues_count\":0,\"good_first_issue_issues_count\":0,\"starred_by_current_user\":false}],\"type\":\"repositories\",\"page\":1,\"page_count\":100,\"elapsed_millis\":274,\"errors\":[],\"result_count\":56412,\"facets\":[{\"kind\":\"FACET_KIND_LANGUAGE\",\"entries\":[{\"name\":\"JavaScript\",\"language_color\":\"#f1e05a\",\"query\":\"language:JavaScript\"},{\"name\":\"HTML\",\"language_color\":\"#e34c26\",\"query\":\"language:HTML\"},{\"name\":\"Python\",\"language_color\":\"#3572A5\",\"query\":\"language:Python\"},{\"name\":\"Java\",\"language_color\":\"#b07219\",\"query\":\"language:Java\"},{\"name\":\"TypeScript\",\"language_color\":\"#3178c6\",\"query\":\"language:TypeScript\"},{\"name\":\"Jupyter Notebook\",\"language_color\":\"#DA5B0B\",\"query\":\"language:Jupyter Notebook\"},{\"name\":\"C#\",\"language_color\":\"#178600\",\"query\":\"language:C#\"},{\"name\":\"CSS\",\"language_color\":\"#563d7c\",\"query\":\"language:CSS\"},{\"name\":\"PHP\",\"language_color\":\"#4F5D95\",\"query\":\"language:PHP\"},{\"name\":\"Ruby\",\"language_color\":\"#701516\",\"query\":\"language:Ruby\"}]}],\"protected_org_logins\":[],\"topics\":null,\"query_id\":\"\",\"logged_in\":false,\"sign_up_path\":\"/signup?source=code_search_results\",\"sign_in_path\":\"/login?return_to=https%3A%2F%2Fgithub.com%2Fsearch%3Fq%3Dsports%26type%3Drepositories%26s%3Dstars%26o%3Ddesc%26p%3D1\",\"metadata\":null,\"csrf_tokens\":{\"/ScottfreeLLC/AlphaPy/star\":{\"post\":\"f_4fTFM8leP6uaCfy-TeHH7DYoxc2t6bAxfJcrDLK5Nrme-UhBU1QCISgGPtHUXN_M-IRQtIN60htKOJ6NNxAg\"},\"/ScottfreeLLC/AlphaPy/unstar\":{\"post\":\"Db02wtlfM8ZUlmST8HqUG2KLKSYSLL8OyiQW4M0coldk8vUJbswcQpQIUTTkmpuL7vL17__5JzluefrDmW1d0A\"},\"/jalapic/engsoccerdata/star\":{\"post\":\"BDxtz7xQqz_HSoCN_uSKSZAStQxVobgnUgewFxLuNLnF8TVMqPZSL4KbAdTibcYVSX8VH7TYWQ483CP65cu6lQ\"},\"/jalapic/engsoccerdata/unstar\":{\"post\":\"qBuAyD4ZrJlAmakQLLwJx7PIaRgUF5VS15kRtBLuQXVQizGRtq6udRxXBpj4cHYBqPlWUG3YNtE1A7kybBUgXw\"},\"/bttmly/nba/star\":{\"post\":\"DrE1kb288NGRLSIm-11_YHirpZF9XkzEoF_AIivAl7tZ5Tn_LM_OjcMkXvmQu71V0Q6fNypLPL-GgAYIuRKNKg\"},\"/bttmly/nba/unstar\":{\"post\":\"0KMmTP27n-t40qnEmTX_wOsFXf20ShTJVf-kcRfKZy6PrAQ9HRqQXKYTWPhPl1A3igynh5y-nMrT3g1d25s7Zg\"},\"/kyleskom/NBA-Machine-Learning-Sports-Betting/star\":{\"post\":\"XClFHXIQ0-uXC8j_PTvayXYbp8sQcEb1turQtLNhwrn9ZKv4pZUChsXKR_ALQRVkneLxL3727rauL-2ZLSs-Wg\"},\"/kyleskom/NBA-Machine-Learning-Sports-Betting/unstar\":{\"post\":\"Ohd8pAnP4tWArpRWX7_0Iv_ao95zf72QdB85-vlKE-exeX9EuUMCVB1dgUCBm8frg5BwHIhObtMWVZlIbB1ogg\"},\"/linouk23/NBA-Player-Movements/star\":{\"post\":\"SoxLe_zmgSxs0x5lg-sgatamMzVviaCDA7QfhN3tLEQLf9xeQCG1wK9x3ERTbm8Zti6xb3_mb_wHFezJsNo34Q\"},\"/linouk23/NBA-Player-Movements/unstar\":{\"post\":\"MneoqJw-3olkIEiY5noy8aO6qmzko5aEBduDSGMG87tiATt4sdW3Uw6oVecpjP5VGH5qZnaQG3d0GgJtTnmznw\"},\"/tuangauss/DataScienceProjects/star\":{\"post\":\"xWBirYgfNx1dh-xYjVWpgKfuInbmeRmgR9qlOXzbL_ujzPD71pvVwIR3VR8AGkk2bXKJ7aBi7OPCbZe4H2ZN-Q\"},\"/tuangauss/DataScienceProjects/unstar\":{\"post\":\"5Ikmk3XUdjWz4PIIb4kwPUszr9_NVYlAn11kn0Rddy_27NF9Br_pn__afZEI2F2pvLRSx82cSd5CIQL_bbTunw\"},\"/MLB-LED-Scoreboard/mlb-led-scoreboard/star\":{\"post\":\"2aW-9dXXl3FyAzSVcorb8ZnXqI0mZ0Xrv8gP0BoWstA7wg3RXBEmer-ZB45uYDm2gh6TC45ZoD4sFzmyQNWWNw\"},\"/MLB-LED-Scoreboard/mlb-led-scoreboard/unstar\":{\"post\":\"m5eIVFBs5Nq5-j65VwGWIx1FzsJz-Swi-p_exITOD1xYgX2x_pJgR6jCmAcZ-kp-Y3cXNW-Sl86TADWIU52qwQ\"},\"/panzarino/mlbgame/star\":{\"post\":\"Hv_MK0idaHNEcFewqe0R0y2IAv45g6TBeR02awdtyvrL-gPcTJtJrLpfwnTkp-BfnMUvZ_n8eE9FZ6T61xJPgA\"},\"/panzarino/mlbgame/unstar\":{\"post\":\"7tSUMhO0XgRmGJbdh5wyrj_Kl2zg0IIXPfnNM5dAMvZrjWFYnRI91_TqTHHHd44vyAioERQuQFoQshz8o0-aIA\"},\"/matiasmascioto/awesome-soccer-analytics/star\":{\"post\":\"CNJA1BmgeiTbBGkA_n8O9dTrmwvlg8HfRqY30TKNKOLXa3IQI4vZ_xxjKX0WpFKaKWXH5bCloWtEP0lDdEW4mA\"},\"/matiasmascioto/awesome-soccer-analytics/unstar\":{\"post\":\"ws0R_r5RYFahIEeI8t-bRbS6LT60F5wnp5TpF3MsLKMYml6sOnEIVGVfifqoxFayNcHTBGpXVheI6BYdykdKbw\"},\"/roclark/sportsipy/star\":{\"post\":\"5nmzftS2AdNRwJCgZ2rq3eGbujEE8Io3JXS4dvwszP7VvfNwrAVJIy1rbL4HpRphN8To75Br-T1yV42UUwxKUg\"},\"/roclark/sportsipy/unstar\":{\"post\":\"1RbiDReT04KeVqaNA1CJD7GNQY-zQ3Pwj2iiKvmzkRjfDqpJ6bTbp4UxC_omna5iNJA6_vORGL1jJARl1S_RTg\"},\"/sponsors/batch_deferred_sponsor_buttons\":{\"post\":\"RTUbDbo6OZttjfkJpa7MWyHqfAG-Lw6b8ze_09fz3uQz5U-guPtMCbnn24pn2JJ30nV34MKXIXd6BfLC92qQEw\"}}},\"title\":\"Repository search results\"}'"
      ]
     },
     "execution_count": 31,
     "metadata": {},
     "output_type": "execute_result"
    }
   ],
   "source": [
    "requests.get('https://github.com/search?q=sports&type=repositories&s=stars&o=desc&p=1').content"
   ]
  },
  {
   "cell_type": "code",
   "execution_count": 35,
   "id": "0b972e5d-554c-4739-97ee-fd2e54dc9edb",
   "metadata": {},
   "outputs": [
    {
     "data": {
      "text/plain": [
       "<!DOCTYPE html>\n",
       "\n",
       "<html>\n",
       "<head>\n",
       "<meta content=\"text/html; charset=utf-8\" http-equiv=\"Content-type\"/>\n",
       "<meta content=\"default-src 'none'; base-uri 'self'; connect-src 'self'; form-action 'self'; img-src 'self' data:; script-src 'self'; style-src 'unsafe-inline'\" http-equiv=\"Content-Security-Policy\"/>\n",
       "<meta content=\"origin\" name=\"referrer\"/>\n",
       "<title>Rate limit · GitHub</title>\n",
       "<meta content=\"width=device-width\" name=\"viewport\"/>\n",
       "<style media=\"screen\" type=\"text/css\">\n",
       "      body {\n",
       "        background-color: #f6f8fa;\n",
       "        color: #24292e;\n",
       "        font-family: -apple-system,BlinkMacSystemFont,Segoe UI,Helvetica,Arial,sans-serif,Apple Color Emoji,Segoe UI Emoji,Segoe UI Symbol;\n",
       "        font-size: 14px;\n",
       "        line-height: 1.5;\n",
       "        margin: 0;\n",
       "      }\n",
       "\n",
       "      .container { margin: 50px auto; max-width: 600px; text-align: center; padding: 0 24px; }\n",
       "\n",
       "      a { color: #0366d6; text-decoration: none; }\n",
       "      a:hover { text-decoration: underline; }\n",
       "\n",
       "      h1 { line-height: 60px; font-size: 48px; font-weight: 300; margin: 0px; text-shadow: 0 1px 0 #fff; }\n",
       "      p { color: rgba(0, 0, 0, 0.5); margin: 20px 0 40px; }\n",
       "\n",
       "      ul { list-style: none; margin: 25px 0; padding: 0; }\n",
       "      li { display: table-cell; font-weight: bold; width: 1%; }\n",
       "\n",
       "      .logo { display: inline-block; margin-top: 35px; }\n",
       "      .logo-img-2x { display: none; }\n",
       "      @media\n",
       "      only screen and (-webkit-min-device-pixel-ratio: 2),\n",
       "      only screen and (   min--moz-device-pixel-ratio: 2),\n",
       "      only screen and (     -o-min-device-pixel-ratio: 2/1),\n",
       "      only screen and (        min-device-pixel-ratio: 2),\n",
       "      only screen and (                min-resolution: 192dpi),\n",
       "      only screen and (                min-resolution: 2dppx) {\n",
       "        .logo-img-1x { display: none; }\n",
       "        .logo-img-2x { display: inline-block; }\n",
       "      }\n",
       "\n",
       "      #suggestions {\n",
       "        margin-top: 35px;\n",
       "        color: #ccc;\n",
       "      }\n",
       "      #suggestions a {\n",
       "        color: #666666;\n",
       "        font-weight: 200;\n",
       "        font-size: 14px;\n",
       "        margin: 0 10px;\n",
       "      }\n",
       "\n",
       "    </style>\n",
       "</head>\n",
       "<body>\n",
       "<div class=\"container\">\n",
       "<h1>Whoa there!</h1>\n",
       "<p>You have exceeded a secondary rate limit.<br/><br/>\n",
       "        Please wait a few minutes before you try again;<br/>\n",
       "        in some cases this may take up to an hour.\n",
       "      </p>\n",
       "<div id=\"suggestions\">\n",
       "<a href=\"https://support.github.com/contact\">Contact Support</a> —\n",
       "        <a href=\"https://githubstatus.com\">GitHub Status</a> —\n",
       "        <a href=\"https://twitter.com/githubstatus\">@githubstatus</a>\n",
       "</div>\n",
       "<a class=\"logo logo-img-1x\" href=\"/\">\n",
       "<img alt=\"\" height=\"32\" src=\"data:image/png;base64,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\" title=\"\" width=\"32\"/>\n",
       "</a>\n",
       "<a class=\"logo logo-img-2x\" href=\"/\">\n",
       "<img alt=\"\" height=\"32\" src=\"data:image/png;base64,iVBORw0KGgoAAAANSUhEUgAAAEAAAABACAYAAACqaXHeAAAAGXRFWHRTb2Z0d2FyZQBBZG9iZSBJbWFnZVJlYWR5ccllPAAAAyRpVFh0WE1MOmNvbS5hZG9iZS54bXAAAAAAADw/eHBhY2tldCBiZWdpbj0i77u/IiBpZD0iVzVNME1wQ2VoaUh6cmVTek5UY3prYzlkIj8+IDx4OnhtcG1ldGEgeG1sbnM6eD0iYWRvYmU6bnM6bWV0YS8iIHg6eG1wdGs9IkFkb2JlIFhNUCBDb3JlIDUuMy1jMDExIDY2LjE0NTY2MSwgMjAxMi8wMi8wNi0xNDo1NjoyNyAgICAgICAgIj4gPHJkZjpSREYgeG1sbnM6cmRmPSJodHRwOi8vd3d3LnczLm9yZy8xOTk5LzAyLzIyLXJkZi1zeW50YXgtbnMjIj4gPHJkZjpEZXNjcmlwdGlvbiByZGY6YWJvdXQ9IiIgeG1sbnM6eG1wPSJodHRwOi8vbnMuYWRvYmUuY29tL3hhcC8xLjAvIiB4bWxuczp4bXBNTT0iaHR0cDovL25zLmFkb2JlLmNvbS94YXAvMS4wL21tLyIgeG1sbnM6c3RSZWY9Imh0dHA6Ly9ucy5hZG9iZS5jb20veGFwLzEuMC9zVHlwZS9SZXNvdXJjZVJlZiMiIHhtcDpDcmVhdG9yVG9vbD0iQWRvYmUgUGhvdG9zaG9wIENTNiAoTWFjaW50b3NoKSIgeG1wTU06SW5zdGFuY2VJRD0ieG1wLmlpZDpEQUM1QkUxRUI0MUMxMUUyQUQzREIxQzRENUFFNUM5NiIgeG1wTU06RG9jdW1lbnRJRD0ieG1wLmRpZDpEQUM1QkUxRkI0MUMxMUUyQUQzREIxQzRENUFFNUM5NiI+IDx4bXBNTTpEZXJpdmVkRnJvbSBzdFJlZjppbnN0YW5jZUlEPSJ4bXAuaWlkOkUxNkJENjdGQjNGMDExRTJBRDNEQjFDNEQ1QUU1Qzk2IiBzdFJlZjpkb2N1bWVudElEPSJ4bXAuZGlkOkUxNkJENjgwQjNGMDExRTJBRDNEQjFDNEQ1QUU1Qzk2Ii8+IDwvcmRmOkRlc2NyaXB0aW9uPiA8L3JkZjpSREY+IDwveDp4bXBtZXRhPiA8P3hwYWNrZXQgZW5kPSJyIj8+hfPRaQAAB6lJREFUeNrsW2mME2UYbodtt+2222u35QheoCCYGBQligIJgkZJNPzgigoaTEj8AdFEMfADfyABkgWiiWcieK4S+QOiHAYUj2hMNKgYlEujpNttu9vttbvdw+chU1K6M535pt3ubHCSyezR+b73eb73+t7vrfXsufOW4bz6+vom9/b23ovnNNw34b5xYGAgODg46Mbt4mesVmsWd1qSpHhdXd2fuP/Afcput5/A88xwymcdBgLqenp6FuRyuWV4zu/v759QyWBjxoz5t76+/gun09mK5xFyakoCAPSaTCazNpvNPoYVbh6O1YKGRF0u13sNDQ27QMzfpiAAKj0lnU6/gBVfAZW2WWpwwVzy0IgP3G73FpjI6REhAGA9qVRqA1b9mVoBVyIC2tDi8Xg24+dUzQiAbS/s7Ox8G2o/3mKCC+Zw0efzPQEfcVjYrARX3dbV1bUtHo8fMgt42f+Mp0yUTVQbdWsAHVsikdiHkHaPxcQXQufXgUBgMRxme9U0AAxfH4vFvjM7eF6UkbJS5qoQwEQGA57Ac5JllFyUVZZ5ckUEgMVxsK2jlSYzI+QXJsiyjzNEAJyJAzb/KQa41jJKL8pODMQiTEAymXw5n8/P0IjD3bh7Rgog59aanxiIRTVvV/oj0tnHca/WMrVwODwB3raTGxzkBg/gnZVapFV62Wy2n5AO70HM/5wbJ0QnXyQSaVPDIuNZzY0V3ntHMwxiwHA0Gj2Np7ecIBDgaDAYXKCQJM1DhrgJ3nhulcPbl8j4NmHe46X/g60fwbz3aewjkqFQaAqebWU1AOqyQwt8Id6qEHMc97zu7u7FGGsn7HAiVuosVw7P35C1nccdgSCxop1dHeZswmfHMnxBo6ZTk+jN8dl/vF7vWofDsa+MLN9oEUBMxOb3+1eoEsBVw6Zmua49r8YmhAKDiEPcMwBsxMiqQ+ixzPFxZyqRpXARG/YOr1ObFJ0gUskXBbamcR1OKmMUvDxHRAu8/LmY3jFLMUpFqz9HxG65smYJdyKyECOxDiEAe/p1gjF2oonivZAsxVgl2daa4EQWCW6J55qFAFFZiJWYLxNQy2qOSUzGRsyXCUDIeliwAHEO4WSlWQBRFoZakXcKmCXmyXAKs0Ve9vl8q42WoIYpJU4hV3hKcNs8m9gl7p/xQ73eF5kB4j5mNrWmTJRNwAzqiV1CxjVTZCIkEq+Z1bZFZSN2CenmVAFVy4Plz8xKAGWjjAKFk6lCBMDR/MJjLLMSQNm43xAiQKTaA+9/wewhDjL+JVI1kkTSSOTcKbMTwPqESAot6dn6Fr1gHwVJju6IRuyiByPuUUBAg5DGkAgBmxlvdgIEK9gDkohdY/BJo4CAG0R8miRSsGABkgVQs4KXu098IgUXSSRsFAoKZiVAVDY2WUiiPTjYRi41KwGisrGsLtlsth8Fiwnz2fBkQvWfRtlE3iF2yW63/yCacXZ1dW02GwGyTFaRd4idJnCKHRaCxYRHoG5LTKT6SyiToP1fJHbmAYPYRR0UnZQtMnA6s0zg+GZBlt0Gdo7EPHgpE3Q6nZ8YyLhc8Xj8MJh/aKTAY+5FPAKHLE7RdwuYJZmNwzyCMkBCYyKROJBMJl9B/PXXCjjmCmDOVzH3fiPpObEWGqoKe4EBl8v1hlqsdLvd23mkxHM9pc9kMpmno9HoeTii7ewbHEZPPx1ztLS1tV3AnGuMjiNjvbQFuHw6zDo5By7dTPAQNBgMLrRarTkSls1mnwT7uwp9virx9QzbW/HuV/j5d/b+6jniKlllP8lkeONJDk+dq9GsQTnC4fB1heO0K47Hwe7WdDr9nAKgXwOBwHI+C45Htj1d6sd429TUNEcmUdc+PRaLHcvn87dXW4ugzdsaGxufL94NFv9zi1J7GVbhlvb2dnaJ3SVrxfc+n2+NTsZ7/H7/Mr3g5XdSIHyJSH1PZ+7fToyl2+ErqilgZ4NaLYB9goVGaHjR93Hv1ZrU4XDsFT20kH3PObzbWk0CgG1jacVIUnAQb9F+VexyLMzkpcLv0IJV7AHQIOCAUYHx7v5qgScmYHtTqSAyZLEJTK22Bie4iq3xsqpm4SAf9Hq9a2DnJ4uLK3SEULcdRvp3i3zHySqpficxEdsQc1NrlYXXvR+O7qASSezXB+h1SuUomgg9LL8BUoV4749EIolKh+EiqWmqVEZlDgHks2pxHw7xTqUQw9J5NcAXOK10AGIoZ6Zli6JY6Z1Q461KoZ4NiKLHarW+KDsxlDUPHZ5zPQZqUVDPJsTqb5n9malbpAh8C2XXDLl62+WZIDFRUlNVOiwencnNU3aQEkL+cDMSoLvZo2fQB7AJssNAuFuvorlDVVkkg2I87+jo2K2QAVphDrfyViK5VqtO34OkaxXCp+7drdDBCAdubm6eidX+2WwqT5komwh4YQLk+H4aE93h8Xg2gvHekQZOGSgLZTLyDTLJ4Lx9/KZWKBSainT4Iy3FqQBfnUZR42PKQFksBr9QKVXCPusD3OiA/RkQ5kP8qV/Jl1WywAp/6+dcmPM2zL1UrUahe4JqfnWWKXIul3uUbfP8njAFLW1OFr3gdFtZ72cNH+PtQT7/brW+NXqJAHh0y9V8/U/A1U7AfwIMAD7mS3pCbuWJAAAAAElFTkSuQmCC\" title=\"\" width=\"32\"/>\n",
       "</a>\n",
       "</div>\n",
       "</body>\n",
       "</html>"
      ]
     },
     "execution_count": 35,
     "metadata": {},
     "output_type": "execute_result"
    }
   ],
   "source": [
    "page = get_page_content('https://github.com/search?q=sports&type=repositories&s=stars&o=desc&p=1')"
   ]
  },
  {
   "cell_type": "code",
   "execution_count": 36,
   "id": "4b326484-f566-42fe-a876-29473bd459bf",
   "metadata": {},
   "outputs": [
    {
     "data": {
      "text/plain": [
       "{\"payload\":{\"header_redesign_enabled\":false,\"results\":[{\"id\":\"51673050\",\"archived\":false,\"color\":\"#3572A5\",\"followers\":971,\"has_funding_file\":true,\"hl_name\":\"ScottfreeLLC/AlphaPy\",\"hl_trunc_description\":\"Automated Machine Learning [AutoML] with Python, scikit-learn, Keras, XGBoost, LightGBM, and CatBoost\",\"language\":\"Python\",\"mirror\":false,\"owned_by_organization\":true,\"public\":true,\"repo\":{\"repository\":{\"id\":51673050,\"name\":\"AlphaPy\",\"owner_id\":26985901,\"owner_login\":\"ScottfreeLLC\",\"updated_at\":\"2023-08-31T02:18:51.167Z\",\"has_issues\":true}},\"sponsorable\":true,\"topics\":[\"python\",\"portfolio\",\"data-science\",\"machine-learning\",\"deep-learning\",\"trading\",\"scikit-learn\",\"keras\",\"sports\",\"regression\",\"pandas\",\"cryptocurrency\",\"iex\",\"classification\",\"trading-platform\",\"trading-strategies\",\"stocks\",\"predictive-analytics\",\"time-series-analysis\",\"backtesting\"],\"type\":\"Public\",\"help_wanted_issues_count\":1,\"good_first_issue_issues_count\":0,\"starred_by_current_user\":false},{\"id\":\"22526233\",\"archived\":false,\"color\":\"#198CE7\",\"followers\":730,\"has_funding_file\":false,\"hl_name\":\"jalapic/engsoccerdata\",\"hl_trunc_description\":\"English and European soccer results 1871-2022\",\"language\":\"R\",\"mirror\":false,\"owned_by_organization\":false,\"public\":true,\"repo\":{\"repository\":{\"id\":22526233,\"name\":\"engsoccerdata\",\"owner_id\":7896861,\"owner_login\":\"jalapic\",\"updated_at\":\"2022-11-10T19:20:28.564Z\",\"has_issues\":true}},\"sponsorable\":false,\"topics\":[\"data-science\",\"r\",\"sports\",\"soccer\",\"data-visualization\",\"rstats\",\"sports-stats\",\"sport\"],\"type\":\"Public\",\"help_wanted_issues_count\":0,\"good_first_issue_issues_count\":0,\"starred_by_current_user\":false},{\"id\":\"24005775\",\"archived\":false,\"color\":\"#f1e05a\",\"followers\":685,\"has_funding_file\":false,\"hl_name\":\"bttmly/nba\",\"hl_trunc_description\":\"Node.js client for nba.com API endpoints\",\"language\":\"JavaScript\",\"mirror\":false,\"owned_by_organization\":false,\"public\":true,\"repo\":{\"repository\":{\"id\":24005775,\"name\":\"nba\",\"owner_id\":3442934,\"owner_login\":\"bttmly\",\"updated_at\":\"2023-07-11T23:21:07.949Z\",\"has_issues\":true}},\"sponsorable\":false,\"topics\":[\"nba\",\"sports\",\"http-client\",\"basketball\"],\"type\":\"Public\",\"help_wanted_issues_count\":0,\"good_first_issue_issues_count\":0,\"starred_by_current_user\":false},{\"id\":\"224907324\",\"archived\":false,\"color\":\"#3572A5\",\"followers\":679,\"has_funding_file\":false,\"hl_name\":\"kyleskom/NBA-Machine-Learning-<em>Sports</em>-Betting\",\"hl_trunc_description\":\"NBA <em>sports</em> betting using machine learning\",\"language\":\"Python\",\"mirror\":false,\"owned_by_organization\":false,\"public\":true,\"repo\":{\"repository\":{\"id\":224907324,\"name\":\"NBA-Machine-Learning-Sports-Betting\",\"owner_id\":15850656,\"owner_login\":\"kyleskom\",\"updated_at\":\"2023-10-07T15:05:38.560Z\",\"has_issues\":true}},\"sponsorable\":false,\"topics\":[\"python\",\"nba\",\"data-science\",\"machine-learning\",\"ai\",\"deep-learning\",\"neural-network\",\"tensorflow\",\"keras\",\"sports\",\"gambling\",\"nba-analytics\",\"sports-data\",\"nba-prediction\",\"sports-betting\",\"sports-analytics\"],\"type\":\"Public\",\"help_wanted_issues_count\":0,\"good_first_issue_issues_count\":0,\"starred_by_current_user\":false},{\"id\":\"64963939\",\"archived\":false,\"color\":\"#3572A5\",\"followers\":600,\"has_funding_file\":false,\"hl_name\":\"linouk23/NBA-Player-Movements\",\"hl_trunc_description\":\"🏀 Visualization of NBA games from raw SportVU data logs\",\"language\":\"Python\",\"mirror\":false,\"owned_by_organization\":false,\"public\":true,\"repo\":{\"repository\":{\"id\":64963939,\"name\":\"NBA-Player-Movements\",\"owner_id\":5459870,\"owner_login\":\"linouk23\",\"updated_at\":\"2023-10-01T13:07:25.944Z\",\"has_issues\":true}},\"sponsorable\":false,\"topics\":[\"visualization\",\"nba\",\"animation\",\"sports\",\"basketball\"],\"type\":\"Public\",\"help_wanted_issues_count\":0,\"good_first_issue_issues_count\":0,\"starred_by_current_user\":false},{\"id\":\"117403324\",\"archived\":false,\"color\":\"#DA5B0B\",\"followers\":569,\"has_funding_file\":false,\"hl_name\":\"tuangauss/DataScienceProjects\",\"hl_trunc_description\":\"The code repository for projects and tutorials in R and Python that covers a variety of topics in data visualization, statistics <em>sports</em> a…\",\"language\":\"Jupyter Notebook\",\"mirror\":false,\"owned_by_organization\":false,\"public\":true,\"repo\":{\"repository\":{\"id\":117403324,\"name\":\"DataScienceProjects\",\"owner_id\":22004519,\"owner_login\":\"tuangauss\",\"updated_at\":\"2023-07-08T16:58:37.873Z\",\"has_issues\":true}},\"sponsorable\":false,\"topics\":[\"data-science\",\"statistics\",\"data-visualization\"],\"type\":\"Public\",\"help_wanted_issues_count\":0,\"good_first_issue_issues_count\":0,\"starred_by_current_user\":false},{\"id\":\"118538523\",\"archived\":false,\"color\":\"#3572A5\",\"followers\":543,\"has_funding_file\":false,\"hl_name\":\"MLB-LED-Scoreboard/mlb-led-scoreboard\",\"hl_trunc_description\":\"An LED scoreboard for Major League Baseball ⚾\",\"language\":\"Python\",\"mirror\":false,\"owned_by_organization\":true,\"public\":true,\"repo\":{\"repository\":{\"id\":118538523,\"name\":\"mlb-led-scoreboard\",\"owner_id\":36866386,\"owner_login\":\"MLB-LED-Scoreboard\",\"updated_at\":\"2023-10-06T01:45:56.008Z\",\"has_issues\":true}},\"sponsorable\":false,\"topics\":[\"raspberry-pi\",\"adafruit\",\"sports\",\"baseball\",\"mlb\",\"rgb-led\"],\"type\":\"Public\",\"help_wanted_issues_count\":1,\"good_first_issue_issues_count\":4,\"starred_by_current_user\":false},{\"id\":\"45427744\",\"archived\":false,\"color\":\"#3572A5\",\"followers\":509,\"has_funding_file\":false,\"hl_name\":\"panzarino/mlbgame\",\"hl_trunc_description\":\"A Python API to retrieve and read MLB GameDay data\",\"language\":\"Python\",\"mirror\":false,\"owned_by_organization\":false,\"public\":true,\"repo\":{\"repository\":{\"id\":45427744,\"name\":\"mlbgame\",\"owner_id\":7033952,\"owner_login\":\"panzarino\",\"updated_at\":\"2022-01-30T05:08:19.705Z\",\"has_issues\":true}},\"sponsorable\":false,\"topics\":[\"sports\",\"baseball\",\"mlb\",\"sports-stats\",\"mlb-gameday\",\"mlb-scores\",\"baseball-statistics\",\"baseball-analytics\",\"mlb-api\"],\"type\":\"Public\",\"help_wanted_issues_count\":7,\"good_first_issue_issues_count\":0,\"starred_by_current_user\":false},{\"id\":\"170770806\",\"archived\":false,\"color\":null,\"followers\":456,\"has_funding_file\":false,\"hl_name\":\"matiasmascioto/awesome-soccer-analytics\",\"hl_trunc_description\":\"⚽📈 A curated list of awesome resources related to Soccer Analytics.\",\"language\":null,\"mirror\":false,\"owned_by_organization\":false,\"public\":true,\"repo\":{\"repository\":{\"id\":170770806,\"name\":\"awesome-soccer-analytics\",\"owner_id\":5489787,\"owner_login\":\"matiasmascioto\",\"updated_at\":\"2020-11-17T15:36:48.769Z\",\"has_issues\":true}},\"sponsorable\":false,\"topics\":[\"awesome\",\"football\",\"analytics\",\"sports\",\"soccer\",\"sports-analytics\"],\"type\":\"Public\",\"help_wanted_issues_count\":0,\"good_first_issue_issues_count\":0,\"starred_by_current_user\":false},{\"id\":\"132654055\",\"archived\":false,\"color\":\"#3572A5\",\"followers\":442,\"has_funding_file\":false,\"hl_name\":\"roclark/<em>sportsipy</em>\",\"hl_trunc_description\":\"A free <em>sports</em> API written for python\",\"language\":\"Python\",\"mirror\":false,\"owned_by_organization\":false,\"public\":true,\"repo\":{\"repository\":{\"id\":132654055,\"name\":\"sportsipy\",\"owner_id\":12703406,\"owner_login\":\"roclark\",\"updated_at\":\"2023-10-18T01:34:53.308Z\",\"has_issues\":true}},\"sponsorable\":true,\"topics\":[\"api\",\"nba\",\"machine-learning\",\"statistics\",\"reference\",\"nfl\",\"sports\",\"artificial-intelligence\",\"teams\",\"stats\",\"ncaa\",\"athletes\",\"mlb\",\"nhl\",\"sports-stats\",\"sports-data\",\"sports-reference\"],\"type\":\"Public\",\"help_wanted_issues_count\":0,\"good_first_issue_issues_count\":0,\"starred_by_current_user\":false}],\"type\":\"repositories\",\"page\":1,\"page_count\":100,\"elapsed_millis\":208,\"errors\":[],\"result_count\":56412,\"facets\":[{\"kind\":\"FACET_KIND_LANGUAGE\",\"entries\":[{\"name\":\"JavaScript\",\"language_color\":\"#f1e05a\",\"query\":\"language:JavaScript\"},{\"name\":\"HTML\",\"language_color\":\"#e34c26\",\"query\":\"language:HTML\"},{\"name\":\"Python\",\"language_color\":\"#3572A5\",\"query\":\"language:Python\"},{\"name\":\"Java\",\"language_color\":\"#b07219\",\"query\":\"language:Java\"},{\"name\":\"TypeScript\",\"language_color\":\"#3178c6\",\"query\":\"language:TypeScript\"},{\"name\":\"Jupyter Notebook\",\"language_color\":\"#DA5B0B\",\"query\":\"language:Jupyter Notebook\"},{\"name\":\"C#\",\"language_color\":\"#178600\",\"query\":\"language:C#\"},{\"name\":\"CSS\",\"language_color\":\"#563d7c\",\"query\":\"language:CSS\"},{\"name\":\"PHP\",\"language_color\":\"#4F5D95\",\"query\":\"language:PHP\"},{\"name\":\"Ruby\",\"language_color\":\"#701516\",\"query\":\"language:Ruby\"}]}],\"protected_org_logins\":[],\"topics\":null,\"query_id\":\"\",\"logged_in\":false,\"sign_up_path\":\"/signup?source=code_search_results\",\"sign_in_path\":\"/login?return_to=https%3A%2F%2Fgithub.com%2Fsearch%3Fq%3Dsports%26type%3Drepositories%26s%3Dstars%26o%3Ddesc%26p%3D1\",\"metadata\":null,\"csrf_tokens\":{\"/ScottfreeLLC/AlphaPy/star\":{\"post\":\"uv85nr3Cx8MzzAYpWdc85bNms-h69R1SKmrHrZZAPmm47L4whGtQU1bWiv_f4suUSJwNtbBRYSbOeyHvEh4F8g\"},\"/ScottfreeLLC/AlphaPy/unstar\":{\"post\":\"FclhRfnFLmNEcAAy5btbNOn7YPzrC6sc2QB6Jzl5toUE7Jk9IKPOVcd4gtG4eUdEYkwOtpa3bSccH62d3t8K-A\"},\"/jalapic/engsoccerdata/star\":{\"post\":\"5-CrxEApxCk1A7SlEav5WvD4BnTTUeTEpv-CNm7eeA0Sjlw-l6rr-8cRzG0m-UX-5borqfRMAnDHc77RNCULvw\"},\"/jalapic/engsoccerdata/unstar\":{\"post\":\"S9hHJIJp3op2Z7CAu5mqtxKr4nvIz_fhHzT4kScD5Sig5DW-TOeX0qD5mQdKIsCwUSB-mftKF4DOyXOrsCCtYA\"},\"/bttmly/nba/star\":{\"post\":\"ekoFr4XZM4pDL4DKk5TmQBUtkoh7_2Q3vmhU5pRiFq1Cp59LUm8cDMowj6KW4PKADc8dE90yWeZiVUyanT4sdg\"},\"/bttmly/nba/unstar\":{\"post\":\"oejEHMbb8FoUPz0GB8wZQugPavg0IQ4nyfDx7POrbV40AtHo60g7utbGNb-TkVzXX7-0LDnufgbBgprvg0vjWQ\"},\"/kyleskom/NBA-Machine-Learning-Sports-Betting/star\":{\"post\":\"hp5Und2OK7oXcCgmej2OiZIegv1uCvjMKpQuTzhHaMeoBNPSKLly_4WBXUgGw-aG8aoiOmIvk-HPNbxTMIqNJQ\"},\"/kyleskom/NBA-Machine-Learning-Sports-Betting/unstar\":{\"post\":\"DBCSqauK7JmSTIguzT_n7mfVihXUpvjaRvwPOGz0vodo3ancZHdSSPTu44GcDtApIID1nMtR5XWft9LJkYGsaQ\"},\"/linouk23/NBA-Player-Movements/star\":{\"post\":\"SJU-HyCWrXX_buL_A0GDh8kPcRckAJgCuVN4R513mrKDVib3zM4X_viT3qksDPFbOy3HyremKLogciyagDLozw\"},\"/linouk23/NBA-Player-Movements/unstar\":{\"post\":\"b7DXq2CA5JQmHCNPVvIr2bTLGBgvUrDUpgsxXIN2qRr3QlW1eKS_u1uOfMZ3FRMKrbsoVE4XZB9dOkzFc65n9A\"},\"/tuangauss/DataScienceProjects/star\":{\"post\":\"XXQfvt7FgDkgDYo9tQl2M1amHDIiYt21PV3Z3mMzw9Q3yk19EXlCs8cD2irjztX6X1WXoRnKdmdTxyuGZ5pXAQ\"},\"/tuangauss/DataScienceProjects/unstar\":{\"post\":\"PLKOXPLdYhbFSTi_U-C25BjmgxYRnPPF8HLO7Uv7FLU0Iyg-lydPUdE8n7eymfLjkpBberIwmKy66MwNVLQUng\"},\"/MLB-LED-Scoreboard/mlb-led-scoreboard/star\":{\"post\":\"WNfvP-r1j34erHHuWtTE6iFWabbSyNEr6FXZJI5X-UC7wOxPzTC7mkBlzlSCPAz1HkS01sXL5E8BwnQcKrtFrQ\"},\"/MLB-LED-Scoreboard/mlb-led-scoreboard/unstar\":{\"post\":\"F8XylU2F7BukGbV6cH_llq5PkKkKV7jpgL4mFqMiWFS-5xmW7JpNoZjxSzLIsYry1N1BgNbVXfjrkbSZ_4DCew\"},\"/panzarino/mlbgame/star\":{\"post\":\"2EZVlpYiI7HEHBrjrNriSnPka_cP3_5dtuS3_a41LVEJ-Ne0fk-D601MvZwcrWA9VmlD_xzi3_dvUG3WTSWiww\"},\"/panzarino/mlbgame/unstar\":{\"post\":\"4S2QXsiX0s5hPPXcBe5J4NTQivjGBnJTKvl_57KG_ptznsvK7satj_WdmZyTgd_32es-JI9VzYtuwx_C01DiFA\"},\"/matiasmascioto/awesome-soccer-analytics/star\":{\"post\":\"W8QWcA6E7Gqp3zKXMXtTaNGq5Rr3VXj3puwwVq4ZiiZRb3t5pZtmQbwNjQTbdsPupTJzIlF3hpR_-HCsPRljFw\"},\"/matiasmascioto/awesome-soccer-analytics/unstar\":{\"post\":\"hBW_LTYMIFbzXdXEQ7-tB8ls6lW1eblfMjpXOV2JSYJO0OF3k6oP1gzgAX8pFCiyFbb_aQNKfnbLNTh8azrudg\"},\"/roclark/sportsipy/star\":{\"post\":\"9J1HWsVN5XFxXPXiiJQE2G95T90SUmg5BAO6EmQJx4ZiVatjAOKVbRju_bJ4hScS_eknvaUPC2X9HwtiVZd_7g\"},\"/roclark/sportsipy/unstar\":{\"post\":\"PvZ59T0ZB1GacNqKAKUb7pheddMvY5TpPBXjPdY2SiASuvrOtoqBjil8lySEOD-BHwdAzhunVbCUJBVwNipQ1w\"},\"/sponsors/batch_deferred_sponsor_buttons\":{\"post\":\"0r_wFjuyITDI8tEctbFZx8bugc-vPAwgy7sAP3XppiUM5CONLxu7AgrVuEo62jy01NNFcyzwEqkKqDzSp4dLCw\"}}},\"title\":\"Repository search results\"}"
      ]
     },
     "execution_count": 36,
     "metadata": {},
     "output_type": "execute_result"
    }
   ],
   "source": [
    "get_page_content('https://github.com/search?q=sports&type=repositories&s=stars&o=desc&p=1')"
   ]
  },
  {
   "cell_type": "code",
   "execution_count": null,
   "id": "724d8fdc-568f-4fef-962f-1073c8053849",
   "metadata": {},
   "outputs": [],
   "source": []
  }
 ],
 "metadata": {
  "kernelspec": {
   "display_name": "Python 3 (ipykernel)",
   "language": "python",
   "name": "python3"
  },
  "language_info": {
   "codemirror_mode": {
    "name": "ipython",
    "version": 3
   },
   "file_extension": ".py",
   "mimetype": "text/x-python",
   "name": "python",
   "nbconvert_exporter": "python",
   "pygments_lexer": "ipython3",
   "version": "3.10.9"
  }
 },
 "nbformat": 4,
 "nbformat_minor": 5
}
