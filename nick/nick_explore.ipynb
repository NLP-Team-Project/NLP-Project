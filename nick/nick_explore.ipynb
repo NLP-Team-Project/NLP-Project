{
 "cells": [
  {
   "cell_type": "code",
   "execution_count": 1,
   "id": "96b6b33d-ebdb-4139-8ab3-c48d79702148",
   "metadata": {},
   "outputs": [
    {
     "name": "stderr",
     "output_type": "stream",
     "text": [
      "[nltk_data] Downloading package wordnet to\n",
      "[nltk_data]     /Users/nickolaspedrimiranda/nltk_data...\n",
      "[nltk_data]   Package wordnet is already up-to-date!\n",
      "[nltk_data] Downloading package omw-1.4 to\n",
      "[nltk_data]     /Users/nickolaspedrimiranda/nltk_data...\n",
      "[nltk_data]   Package omw-1.4 is already up-to-date!\n"
     ]
    }
   ],
   "source": [
    "import pandas as pd\n",
    "\n",
    "import prepare as prp\n",
    "\n",
    "import matplotlib.pyplot as plt\n",
    "import seaborn as sns"
   ]
  },
  {
   "cell_type": "code",
   "execution_count": 6,
   "id": "abd5b94f-5e4b-44e2-99f1-e053cc990bc2",
   "metadata": {},
   "outputs": [],
   "source": [
    "repo = pd.read_csv('all_repos.csv')"
   ]
  },
  {
   "cell_type": "code",
   "execution_count": 7,
   "id": "59037e20-9a4e-4cae-82ad-2c888123602a",
   "metadata": {},
   "outputs": [
    {
     "data": {
      "text/html": [
       "<div>\n",
       "<style scoped>\n",
       "    .dataframe tbody tr th:only-of-type {\n",
       "        vertical-align: middle;\n",
       "    }\n",
       "\n",
       "    .dataframe tbody tr th {\n",
       "        vertical-align: top;\n",
       "    }\n",
       "\n",
       "    .dataframe thead th {\n",
       "        text-align: right;\n",
       "    }\n",
       "</style>\n",
       "<table border=\"1\" class=\"dataframe\">\n",
       "  <thead>\n",
       "    <tr style=\"text-align: right;\">\n",
       "      <th></th>\n",
       "      <th>repo</th>\n",
       "      <th>language</th>\n",
       "      <th>readme_contents</th>\n",
       "    </tr>\n",
       "  </thead>\n",
       "  <tbody>\n",
       "    <tr>\n",
       "      <th>0</th>\n",
       "      <td>ScottfreeLLC/AlphaPy</td>\n",
       "      <td>Python</td>\n",
       "      <td>AlphaPy\\n=======\\n\\n|badge_pypi| |badge_downlo...</td>\n",
       "    </tr>\n",
       "    <tr>\n",
       "      <th>1</th>\n",
       "      <td>jalapic/engsoccerdata</td>\n",
       "      <td>R</td>\n",
       "      <td>Latest GitHub version: 11/4/2022,  v0.1.7\\n\\nN...</td>\n",
       "    </tr>\n",
       "    <tr>\n",
       "      <th>2</th>\n",
       "      <td>bttmly/nba</td>\n",
       "      <td>JavaScript</td>\n",
       "      <td># nba\\n*Node.js client for nba.com API endpoin...</td>\n",
       "    </tr>\n",
       "    <tr>\n",
       "      <th>3</th>\n",
       "      <td>kyleskom/NBA-Machine-Learning-Sports-Betting</td>\n",
       "      <td>Python</td>\n",
       "      <td># NBA Sports Betting Using Machine Learning 🏀\\...</td>\n",
       "    </tr>\n",
       "    <tr>\n",
       "      <th>4</th>\n",
       "      <td>linouk23/NBA-Player-Movements</td>\n",
       "      <td>Python</td>\n",
       "      <td># NBA Player Movements\\n\\nThis is a script for...</td>\n",
       "    </tr>\n",
       "    <tr>\n",
       "      <th>...</th>\n",
       "      <td>...</td>\n",
       "      <td>...</td>\n",
       "      <td>...</td>\n",
       "    </tr>\n",
       "    <tr>\n",
       "      <th>792</th>\n",
       "      <td>abanoubragheb1/EventProject</td>\n",
       "      <td>C#</td>\n",
       "      <td># EventProject\\nA project that helps those int...</td>\n",
       "    </tr>\n",
       "    <tr>\n",
       "      <th>793</th>\n",
       "      <td>hemvall/Heracles</td>\n",
       "      <td>Vue</td>\n",
       "      <td># Heracles\\nSports Performance Tracker: A REST...</td>\n",
       "    </tr>\n",
       "    <tr>\n",
       "      <th>794</th>\n",
       "      <td>Chew/MLB-GameFeed-Bot</td>\n",
       "      <td>Java</td>\n",
       "      <td># MLB-GameFeed-Bot\\n\\nAdd to your server with ...</td>\n",
       "    </tr>\n",
       "    <tr>\n",
       "      <th>795</th>\n",
       "      <td>paucls/court-booking-ddd-kotlin</td>\n",
       "      <td>Kotlin</td>\n",
       "      <td># court-booking-ddd\\nA sample application usin...</td>\n",
       "    </tr>\n",
       "    <tr>\n",
       "      <th>796</th>\n",
       "      <td>congphase/img-captioning-in-vietnamese</td>\n",
       "      <td>Python</td>\n",
       "      <td># img-captioning-in-vietnamese\\n\\n## Project d...</td>\n",
       "    </tr>\n",
       "  </tbody>\n",
       "</table>\n",
       "<p>797 rows × 3 columns</p>\n",
       "</div>"
      ],
      "text/plain": [
       "                                             repo    language  \\\n",
       "0                            ScottfreeLLC/AlphaPy      Python   \n",
       "1                           jalapic/engsoccerdata           R   \n",
       "2                                      bttmly/nba  JavaScript   \n",
       "3    kyleskom/NBA-Machine-Learning-Sports-Betting      Python   \n",
       "4                   linouk23/NBA-Player-Movements      Python   \n",
       "..                                            ...         ...   \n",
       "792                   abanoubragheb1/EventProject          C#   \n",
       "793                              hemvall/Heracles         Vue   \n",
       "794                         Chew/MLB-GameFeed-Bot        Java   \n",
       "795               paucls/court-booking-ddd-kotlin      Kotlin   \n",
       "796        congphase/img-captioning-in-vietnamese      Python   \n",
       "\n",
       "                                       readme_contents  \n",
       "0    AlphaPy\\n=======\\n\\n|badge_pypi| |badge_downlo...  \n",
       "1    Latest GitHub version: 11/4/2022,  v0.1.7\\n\\nN...  \n",
       "2    # nba\\n*Node.js client for nba.com API endpoin...  \n",
       "3    # NBA Sports Betting Using Machine Learning 🏀\\...  \n",
       "4    # NBA Player Movements\\n\\nThis is a script for...  \n",
       "..                                                 ...  \n",
       "792  # EventProject\\nA project that helps those int...  \n",
       "793  # Heracles\\nSports Performance Tracker: A REST...  \n",
       "794  # MLB-GameFeed-Bot\\n\\nAdd to your server with ...  \n",
       "795  # court-booking-ddd\\nA sample application usin...  \n",
       "796  # img-captioning-in-vietnamese\\n\\n## Project d...  \n",
       "\n",
       "[797 rows x 3 columns]"
      ]
     },
     "execution_count": 7,
     "metadata": {},
     "output_type": "execute_result"
    }
   ],
   "source": [
    "repo"
   ]
  },
  {
   "cell_type": "code",
   "execution_count": 4,
   "id": "49475bdb-0310-4a62-a2f7-ce08042ab9e6",
   "metadata": {},
   "outputs": [],
   "source": [
    "repo = prp.cleanse(repo, 'readme_contents')"
   ]
  },
  {
   "cell_type": "code",
   "execution_count": 10,
   "id": "278ad9ed-6fbb-4b3d-b417-311b6801357e",
   "metadata": {},
   "outputs": [],
   "source": [
    "valid_languages = [\"Python\", 'HTML', \"JavaScript\", \"R\", \"Java\", \"TypeScript\", \"PHP\", \"Ruby\", \"C#\", \"C++\", \"Dart\", \"Kotlin\", \"Objective-C\", \"Swift\", \"Go\", \"Rust\", \"C\", \"Elixir\", \"CoffeeScript\", \"MATLAB\", \"Visual Basic .NET\", \"Scala\", \"Haskell\", \"Stata\", \"Haxe\", \"Lua\", \"Perl\", \"Clojure\"]"
   ]
  },
  {
   "cell_type": "code",
   "execution_count": null,
   "id": "c0a9e640-3a53-477b-929f-8c3c71e3faa8",
   "metadata": {},
   "outputs": [],
   "source": [
    "len(repo)"
   ]
  },
  {
   "cell_type": "code",
   "execution_count": 20,
   "id": "d2f16619-d92a-4d75-b463-697cc14d603a",
   "metadata": {},
   "outputs": [
    {
     "data": {
      "text/plain": [
       "Python               232\n",
       "JavaScript           141\n",
       "R                     43\n",
       "TypeScript            40\n",
       "HTML                  40\n",
       "Java                  39\n",
       "PHP                   35\n",
       "Ruby                  30\n",
       "C#                    24\n",
       "C++                   22\n",
       "Dart                  22\n",
       "Kotlin                20\n",
       "CSS                   19\n",
       "Vue                   10\n",
       "Objective-C           10\n",
       "Swift                 10\n",
       "Go                     9\n",
       "Rust                   6\n",
       "XSLT                   4\n",
       "TeX                    3\n",
       "Shell                  3\n",
       "Solidity               3\n",
       "C                      3\n",
       "Elixir                 3\n",
       "CoffeeScript           2\n",
       "MATLAB                 2\n",
       "Visual Basic .NET      2\n",
       "Svelte                 2\n",
       "EJS                    2\n",
       "Matlab                 2\n",
       "Scala                  2\n",
       "Haskell                1\n",
       "Stata                  1\n",
       "Visual Basic           1\n",
       "Haxe                   1\n",
       "Dockerfile             1\n",
       "XML                    1\n",
       "Max                    1\n",
       "Batchfile              1\n",
       "q                      1\n",
       "Lua                    1\n",
       "Perl                   1\n",
       "Clojure                1\n",
       "Name: language, dtype: int64"
      ]
     },
     "execution_count": 20,
     "metadata": {},
     "output_type": "execute_result"
    }
   ],
   "source": [
    "repo.language.value_counts()"
   ]
  },
  {
   "cell_type": "code",
   "execution_count": 9,
   "id": "df12a177-07b8-4628-80bf-36d57b88c773",
   "metadata": {},
   "outputs": [],
   "source": [
    "langauges = repo.language.value_counts().index"
   ]
  },
  {
   "cell_type": "code",
   "execution_count": 15,
   "id": "c4fbef1e-4623-4aa6-82eb-7f9c66b65b8f",
   "metadata": {},
   "outputs": [],
   "source": [
    "not_lang = list(set(langauges).difference(set(valid_languages)))"
   ]
  },
  {
   "cell_type": "code",
   "execution_count": 21,
   "id": "84eaf721-3f2a-439a-8aaa-52821c82ec0e",
   "metadata": {},
   "outputs": [
    {
     "data": {
      "text/plain": [
       "['Dockerfile',\n",
       " 'Max',\n",
       " 'EJS',\n",
       " 'Batchfile',\n",
       " 'Shell',\n",
       " 'Solidity',\n",
       " 'XML',\n",
       " 'XSLT',\n",
       " 'Visual Basic',\n",
       " 'q',\n",
       " 'Vue',\n",
       " 'Matlab',\n",
       " 'TeX',\n",
       " 'CSS',\n",
       " 'Svelte']"
      ]
     },
     "execution_count": 21,
     "metadata": {},
     "output_type": "execute_result"
    }
   ],
   "source": [
    "not_lang"
   ]
  },
  {
   "cell_type": "code",
   "execution_count": null,
   "id": "612bb1a3-a47f-493a-9257-7bb135e4f3ed",
   "metadata": {},
   "outputs": [],
   "source": []
  }
 ],
 "metadata": {
  "kernelspec": {
   "display_name": "Python 3 (ipykernel)",
   "language": "python",
   "name": "python3"
  },
  "language_info": {
   "codemirror_mode": {
    "name": "ipython",
    "version": 3
   },
   "file_extension": ".py",
   "mimetype": "text/x-python",
   "name": "python",
   "nbconvert_exporter": "python",
   "pygments_lexer": "ipython3",
   "version": "3.10.9"
  }
 },
 "nbformat": 4,
 "nbformat_minor": 5
}
