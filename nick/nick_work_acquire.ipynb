{
 "cells": [
  {
   "cell_type": "code",
   "execution_count": 1,
   "id": "625fe471-6aa9-4eed-8df6-9e0c9712cd81",
   "metadata": {},
   "outputs": [],
   "source": [
    "import pandas as pd\n",
    "import prepare as prep\n",
    "import time\n",
    "\n",
    "import requests\n",
    "import re\n",
    "\n",
    "from bs4 import BeautifulSoup"
   ]
  },
  {
   "cell_type": "code",
   "execution_count": 2,
   "id": "1ecc324d-a1ff-44b0-a95e-ced8c5202ee6",
   "metadata": {},
   "outputs": [
    {
     "data": {
      "text/plain": [
       "['https://github.com/search?q=sports&type=repositories&s=stars&o=desc&p=1',\n",
       " 'https://github.com/search?q=sports&type=repositories&s=stars&o=desc&p=2',\n",
       " 'https://github.com/search?q=sports&type=repositories&s=stars&o=desc&p=3']"
      ]
     },
     "execution_count": 2,
     "metadata": {},
     "output_type": "execute_result"
    }
   ],
   "source": [
    "github_pages = []\n",
    "\n",
    "for n in range(1,101):\n",
    "    github_pages.append(f'https://github.com/search?q=sports&type=repositories&s=stars&o=desc&p={n}')\n",
    "\n",
    "github_pages[:3]"
   ]
  },
  {
   "cell_type": "code",
   "execution_count": 3,
   "id": "3450e996-de9d-442a-9dcc-79e201c49957",
   "metadata": {},
   "outputs": [],
   "source": [
    "def get_page_content(url):\n",
    "    return requests.get(url)"
   ]
  },
  {
   "cell_type": "code",
   "execution_count": 8,
   "id": "0b972e5d-554c-4739-97ee-fd2e54dc9edb",
   "metadata": {},
   "outputs": [],
   "source": [
    "page = get_page_content('https://github.com/search?q=sports&type=repositories&s=stars&o=desc&p=1')"
   ]
  },
  {
   "cell_type": "code",
   "execution_count": 9,
   "id": "37d5ba67-b80a-41b2-bb4a-fcc7a0fdc4bd",
   "metadata": {},
   "outputs": [],
   "source": [
    "gitpage = page.json()\n",
    "gitpage = gitpage['payload']\n",
    "gitpage = gitpage['results']\n",
    "repos = []\n",
    "\n",
    "for d in gitpage:\n",
    "    repos.append(d['hl_name'])"
   ]
  },
  {
   "cell_type": "code",
   "execution_count": 12,
   "id": "c430f034-2473-44cd-9514-2da833ad072d",
   "metadata": {},
   "outputs": [
    {
     "name": "stdout",
     "output_type": "stream",
     "text": [
      "ScottfreeLLC/AlphaPy\n",
      "jalapic/engsoccerdata\n",
      "bttmly/nba\n",
      "kyleskom/NBA-Machine-Learning-Sports-Betting\n",
      "linouk23/NBA-Player-Movements\n",
      "tuangauss/DataScienceProjects\n",
      "MLB-LED-Scoreboard/mlb-led-scoreboard\n",
      "panzarino/mlbgame\n",
      "matiasmascioto/awesome-soccer-analytics\n",
      "roclark/sportsipy\n"
     ]
    }
   ],
   "source": [
    "for repo in repos:\n",
    "    print(re.sub(r'<[^>]+>', '', repo))"
   ]
  },
  {
   "cell_type": "code",
   "execution_count": 13,
   "id": "71884f25-f48d-43c6-a5b9-8c02fdd90e51",
   "metadata": {},
   "outputs": [],
   "source": [
    "def scrape_links(page):\n",
    "    repos = []\n",
    "    page = page['payload']['results']\n",
    "    for dictionary in page:\n",
    "        name = dictionary['hl_name']\n",
    "        name = re.sub(r'<[^>]+>', '', name)\n",
    "        repos.append(name)\n",
    "    return repos"
   ]
  },
  {
   "cell_type": "code",
   "execution_count": 23,
   "id": "e750cbba-4eaa-4ff7-969d-74c8bf9e162d",
   "metadata": {},
   "outputs": [
    {
     "name": "stdout",
     "output_type": "stream",
     "text": [
      "1\n",
      "2\n",
      "3\n",
      "4\n",
      "5\n",
      "6\n",
      "7\n",
      "8\n",
      "9\n",
      "10\n",
      "11\n",
      "12\n",
      "13\n",
      "14\n",
      "15\n",
      "16\n",
      "17\n",
      "18\n",
      "19\n",
      "20\n",
      "21\n",
      "22\n",
      "23\n",
      "24\n",
      "25\n",
      "26\n",
      "27\n",
      "28\n",
      "29\n",
      "30\n",
      "31\n",
      "32\n",
      "33\n",
      "34\n",
      "35\n",
      "36\n",
      "37\n",
      "38\n",
      "39\n",
      "40\n",
      "41\n",
      "42\n",
      "43\n",
      "44\n",
      "45\n",
      "46\n",
      "47\n",
      "48\n",
      "49\n",
      "50\n",
      "51\n",
      "52\n",
      "53\n",
      "54\n",
      "55\n",
      "56\n",
      "57\n",
      "58\n",
      "59\n",
      "60\n",
      "61\n",
      "62\n",
      "63\n",
      "64\n",
      "65\n",
      "66\n",
      "67\n",
      "68\n",
      "69\n",
      "70\n",
      "71\n",
      "72\n",
      "73\n",
      "74\n",
      "75\n",
      "76\n",
      "77\n",
      "78\n",
      "79\n",
      "80\n",
      "81\n",
      "82\n",
      "83\n",
      "84\n",
      "85\n",
      "86\n",
      "87\n",
      "88\n",
      "89\n",
      "90\n",
      "91\n",
      "92\n",
      "93\n",
      "94\n",
      "95\n",
      "96\n",
      "97\n",
      "98\n",
      "99\n",
      "100\n"
     ]
    }
   ],
   "source": [
    "all_pages = []\n",
    "i = 1\n",
    "\n",
    "for link in github_pages:\n",
    "    page = get_page_content(link).json()\n",
    "    all_pages.append(scrape_links(page))\n",
    "    print(i)\n",
    "    i+=1\n",
    "    time.sleep(15)"
   ]
  },
  {
   "cell_type": "code",
   "execution_count": 24,
   "id": "a3e56505-8b08-4a02-974a-b9e6039d8c15",
   "metadata": {},
   "outputs": [
    {
     "data": {
      "text/plain": [
       "100"
      ]
     },
     "execution_count": 24,
     "metadata": {},
     "output_type": "execute_result"
    }
   ],
   "source": [
    "len(all_pages)"
   ]
  },
  {
   "cell_type": "code",
   "execution_count": 25,
   "id": "b167d296-3822-4988-9efb-414ddb192ed9",
   "metadata": {},
   "outputs": [],
   "source": [
    "all_data = []\n",
    "\n",
    "for l in all_pages:\n",
    "    all_data += l"
   ]
  },
  {
   "cell_type": "code",
   "execution_count": 26,
   "id": "54123b21-b995-4917-8d06-9cdf52dae400",
   "metadata": {},
   "outputs": [
    {
     "data": {
      "text/plain": [
       "1000"
      ]
     },
     "execution_count": 26,
     "metadata": {},
     "output_type": "execute_result"
    }
   ],
   "source": [
    "len(all_data)"
   ]
  },
  {
   "cell_type": "code",
   "execution_count": null,
   "id": "e40c0b91-ba9f-4131-a004-37838ce218eb",
   "metadata": {},
   "outputs": [],
   "source": []
  }
 ],
 "metadata": {
  "kernelspec": {
   "display_name": "Python 3 (ipykernel)",
   "language": "python",
   "name": "python3"
  },
  "language_info": {
   "codemirror_mode": {
    "name": "ipython",
    "version": 3
   },
   "file_extension": ".py",
   "mimetype": "text/x-python",
   "name": "python",
   "nbconvert_exporter": "python",
   "pygments_lexer": "ipython3",
   "version": "3.10.9"
  }
 },
 "nbformat": 4,
 "nbformat_minor": 5
}
